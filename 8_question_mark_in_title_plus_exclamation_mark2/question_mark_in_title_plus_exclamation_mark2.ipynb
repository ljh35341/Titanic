{
 "cells": [
  {
   "cell_type": "code",
   "execution_count": 1,
   "metadata": {},
   "outputs": [],
   "source": [
    "api_key = \"\"\n",
    "channel_id = \"\""
   ]
  },
  {
   "cell_type": "code",
   "execution_count": 2,
   "metadata": {},
   "outputs": [],
   "source": [
    "from googleapiclient.discovery import build\n",
    "youtube = build(\"youtube\", \"v3\", developerKey=api_key)"
   ]
  },
  {
   "cell_type": "code",
   "execution_count": 3,
   "metadata": {},
   "outputs": [],
   "source": [
    "def get_channel_videos(channel_id):\n",
    "    res = youtube.channels().list(id=channel_id,\n",
    "                                 part=\"contentDetails\").execute()\n",
    "    playlist_id = res[\"items\"][0][\"contentDetails\"][\"relatedPlaylists\"][\"uploads\"]\n",
    "    \n",
    "    videos = []\n",
    "    next_page_token = None\n",
    "    \n",
    "    while 1:\n",
    "        res = youtube.playlistItems().list(playlistId=playlist_id,\n",
    "                                          part=\"snippet\",\n",
    "                                          maxResults=50,\n",
    "                                          pageToken=next_page_token).execute()\n",
    "        videos += res[\"items\"]\n",
    "        next_page_token = res.get(\"nextPageToken\")\n",
    "        \n",
    "        if next_page_token is None:\n",
    "            break\n",
    "    \n",
    "    return videos"
   ]
  },
  {
   "cell_type": "code",
   "execution_count": 4,
   "metadata": {},
   "outputs": [],
   "source": [
    "videos = get_channel_videos(channel_id)"
   ]
  },
  {
   "cell_type": "code",
   "execution_count": 5,
   "metadata": {},
   "outputs": [],
   "source": [
    "res = youtube.videos().list(id=videos[0][\"snippet\"][\"resourceId\"][\"videoId\"],\n",
    "                           part=\"statistics\").execute()"
   ]
  },
  {
   "cell_type": "code",
   "execution_count": 6,
   "metadata": {},
   "outputs": [],
   "source": [
    "video_ids = list(map(lambda x:x['snippet']['resourceId']['videoId'], videos))"
   ]
  },
  {
   "cell_type": "code",
   "execution_count": 7,
   "metadata": {},
   "outputs": [],
   "source": [
    "def get_videos_stats(video_ids):\n",
    "    stats = []\n",
    "    for i in range(0, len(video_ids), 50):\n",
    "        res = youtube.videos().list(id=','.join(video_ids[i:i+50]),\n",
    "                                   part='statistics').execute()\n",
    "        stats += res['items']\n",
    "    return stats"
   ]
  },
  {
   "cell_type": "code",
   "execution_count": 8,
   "metadata": {},
   "outputs": [],
   "source": [
    "stats = get_videos_stats(video_ids)"
   ]
  },
  {
   "cell_type": "code",
   "execution_count": 9,
   "metadata": {},
   "outputs": [],
   "source": [
    "publishedAt = []\n",
    "title = []\n",
    "viewCount = []\n",
    "for i in range(len(videos)):\n",
    "    publishedAt.append(videos[i]['snippet']['publishedAt'])\n",
    "    title.append(videos[i]['snippet']['title'])\n",
    "    viewCount.append(stats[i]['statistics']['viewCount'])"
   ]
  },
  {
   "cell_type": "code",
   "execution_count": 10,
   "metadata": {},
   "outputs": [],
   "source": [
    "dict = {}\n",
    "dict[\"publishedAt\"] = publishedAt\n",
    "dict[\"title\"] = title\n",
    "dict[\"viewCount\"] = viewCount"
   ]
  },
  {
   "cell_type": "code",
   "execution_count": 11,
   "metadata": {},
   "outputs": [],
   "source": [
    "import pandas as pd\n",
    "df = pd.DataFrame.from_dict(dict)"
   ]
  },
  {
   "cell_type": "code",
   "execution_count": 12,
   "metadata": {
    "scrolled": true
   },
   "outputs": [
    {
     "data": {
      "text/html": [
       "<div>\n",
       "<style scoped>\n",
       "    .dataframe tbody tr th:only-of-type {\n",
       "        vertical-align: middle;\n",
       "    }\n",
       "\n",
       "    .dataframe tbody tr th {\n",
       "        vertical-align: top;\n",
       "    }\n",
       "\n",
       "    .dataframe thead th {\n",
       "        text-align: right;\n",
       "    }\n",
       "</style>\n",
       "<table border=\"1\" class=\"dataframe\">\n",
       "  <thead>\n",
       "    <tr style=\"text-align: right;\">\n",
       "      <th></th>\n",
       "      <th>publishedAt</th>\n",
       "      <th>title</th>\n",
       "      <th>viewCount</th>\n",
       "    </tr>\n",
       "  </thead>\n",
       "  <tbody>\n",
       "    <tr>\n",
       "      <th>0</th>\n",
       "      <td>2021-03-17T15:00:23Z</td>\n",
       "      <td>에이치엘비생명과학과 크리스탈지노믹스, 항암제 공동 임상 개발 추진합니다. (리보세라...</td>\n",
       "      <td>910</td>\n",
       "    </tr>\n",
       "    <tr>\n",
       "      <th>1</th>\n",
       "      <td>2021-03-17T09:00:05Z</td>\n",
       "      <td>넥스트사이언스 아임얼라이브 콤부차 국제 단체 KBI 등록, 프리바이오틱스 풍부</td>\n",
       "      <td>3138</td>\n",
       "    </tr>\n",
       "    <tr>\n",
       "      <th>2</th>\n",
       "      <td>2021-03-17T05:10:33Z</td>\n",
       "      <td>에이치엘비 리보세라닙은 '동일 계열 내 최고 의약품'...여보 집문서 가져와!!</td>\n",
       "      <td>16472</td>\n",
       "    </tr>\n",
       "    <tr>\n",
       "      <th>3</th>\n",
       "      <td>2021-03-16T21:00:05Z</td>\n",
       "      <td>에이치엘비, 최적의 조합으로 불리는 아바스틴과 티센트릭 병요요법과 비슷한 수준의 결과?!</td>\n",
       "      <td>6376</td>\n",
       "    </tr>\n",
       "    <tr>\n",
       "      <th>4</th>\n",
       "      <td>2021-03-16T09:00:09Z</td>\n",
       "      <td>에이치엘비 NSCLC 완전관해 AACR 학술지에 발표! 과연 표적항암제는 면역항암제...</td>\n",
       "      <td>11371</td>\n",
       "    </tr>\n",
       "  </tbody>\n",
       "</table>\n",
       "</div>"
      ],
      "text/plain": [
       "            publishedAt                                              title  \\\n",
       "0  2021-03-17T15:00:23Z  에이치엘비생명과학과 크리스탈지노믹스, 항암제 공동 임상 개발 추진합니다. (리보세라...   \n",
       "1  2021-03-17T09:00:05Z        넥스트사이언스 아임얼라이브 콤부차 국제 단체 KBI 등록, 프리바이오틱스 풍부   \n",
       "2  2021-03-17T05:10:33Z       에이치엘비 리보세라닙은 '동일 계열 내 최고 의약품'...여보 집문서 가져와!!   \n",
       "3  2021-03-16T21:00:05Z  에이치엘비, 최적의 조합으로 불리는 아바스틴과 티센트릭 병요요법과 비슷한 수준의 결과?!   \n",
       "4  2021-03-16T09:00:09Z  에이치엘비 NSCLC 완전관해 AACR 학술지에 발표! 과연 표적항암제는 면역항암제...   \n",
       "\n",
       "  viewCount  \n",
       "0       910  \n",
       "1      3138  \n",
       "2     16472  \n",
       "3      6376  \n",
       "4     11371  "
      ]
     },
     "execution_count": 12,
     "metadata": {},
     "output_type": "execute_result"
    }
   ],
   "source": [
    "df.head()"
   ]
  },
  {
   "cell_type": "code",
   "execution_count": 13,
   "metadata": {},
   "outputs": [],
   "source": [
    "question = []\n",
    "not_question = []"
   ]
  },
  {
   "cell_type": "code",
   "execution_count": 14,
   "metadata": {},
   "outputs": [],
   "source": [
    "for i, title in enumerate(dict['title']):\n",
    "    if '?!' in title and '에이치엘비' in title:\n",
    "        question.append(int(dict['viewCount'][i]))\n",
    "    elif '!' in title and '에이치엘비' in title:\n",
    "        not_question.append(int(dict['viewCount'][i]))"
   ]
  },
  {
   "cell_type": "code",
   "execution_count": 15,
   "metadata": {},
   "outputs": [],
   "source": [
    "mean_question = sum(question)/len(question)\n",
    "mean_not_question = sum(not_question)/len(not_question)"
   ]
  },
  {
   "cell_type": "code",
   "execution_count": 16,
   "metadata": {},
   "outputs": [
    {
     "data": {
      "text/plain": [
       "7630.703448275862"
      ]
     },
     "execution_count": 16,
     "metadata": {},
     "output_type": "execute_result"
    }
   ],
   "source": [
    "mean_question"
   ]
  },
  {
   "cell_type": "code",
   "execution_count": 17,
   "metadata": {},
   "outputs": [
    {
     "data": {
      "text/plain": [
       "8069.571428571428"
      ]
     },
     "execution_count": 17,
     "metadata": {},
     "output_type": "execute_result"
    }
   ],
   "source": [
    "mean_not_question"
   ]
  },
  {
   "cell_type": "code",
   "execution_count": 18,
   "metadata": {},
   "outputs": [
    {
     "data": {
      "image/png": "[encoded data removed]",
      "text/plain": [
       "<Figure size 432x432 with 1 Axes>"
      ]
     },
     "metadata": {
      "needs_background": "light"
     },
     "output_type": "display_data"
    }
   ],
   "source": [
    "import matplotlib.pyplot as plt\n",
    "%matplotlib inline\n",
    "\n",
    "plt.figure(figsize=(6, 6))\n",
    "plt.grid()\n",
    "plt.boxplot([question, not_question])\n",
    "plt.xlabel('when')\n",
    "plt.ylabel('score')\n",
    "plt.title('Box Plot')\n",
    "plt.grid()\n",
    "plt.show()"
   ]
  },
  {
   "cell_type": "code",
   "execution_count": 19,
   "metadata": {},
   "outputs": [
    {
     "data": {
      "text/plain": [
       "Ttest_indResult(statistic=-0.6562711008148875, pvalue=0.5123355201920623)"
      ]
     },
     "execution_count": 19,
     "metadata": {},
     "output_type": "execute_result"
    }
   ],
   "source": [
    "from scipy.stats import ttest_ind\n",
    "ttest_ind(question, not_question)"
   ]
  },
  {
   "cell_type": "markdown",
   "metadata": {},
   "source": [
    "# Results\n",
    "에이치엘비와 ?! 영상 조회수는 평균 7630회이고 에이치엘비와 ! 영상 조회수는 평균 8069회이다.(p-value=0.5) 그러므로 ?!와 ! 조회수는 큰 차이가 없다."
   ]
  },
  {
   "cell_type": "markdown",
   "metadata": {},
   "source": [
    "# Conclusion\n",
    "!를 쓴다."
   ]
  },
  {
   "cell_type": "code",
   "execution_count": null,
   "metadata": {},
   "outputs": [],
   "source": []
  }
 ],
 "metadata": {
  "kernelspec": {
   "display_name": "Python 3",
   "language": "python",
   "name": "python3"
  },
  "language_info": {
   "codemirror_mode": {
    "name": "ipython",
    "version": 3
   },
   "file_extension": ".py",
   "mimetype": "text/x-python",
   "name": "python",
   "nbconvert_exporter": "python",
   "pygments_lexer": "ipython3",
   "version": "3.7.3"
  }
 },
 "nbformat": 4,
 "nbformat_minor": 2
}
