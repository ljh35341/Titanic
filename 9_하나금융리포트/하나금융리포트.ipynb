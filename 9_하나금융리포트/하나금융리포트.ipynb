{
 "cells": [
  {
   "cell_type": "code",
   "execution_count": 46,
   "metadata": {},
   "outputs": [],
   "source": [
    "import requests\n",
    "from bs4 import BeautifulSoup\n",
    "url = \"https://www.hanaw.com/main/research/research/list.cmd?pid=8&cid=3\"\n",
    "res = requests.get(url)\n",
    "soup = BeautifulSoup(res.content, \"lxml\")"
   ]
  },
  {
   "cell_type": "code",
   "execution_count": 47,
   "metadata": {},
   "outputs": [
    {
     "name": "stdout",
     "output_type": "stream",
     "text": [
      "디즈니(DIS.US): 악재 속에서도 빛나는 Disney+\n",
      "P&G(PG.US): 코로나19 수혜 톡톡\n",
      "머크(MRK.US): 2Q20 Review: 우리도 코로나 백신, 치료제 개발합니다\n",
      "신동방(EDU.US): 4Q20FY Re - 대내외로 쉽지 않은 한해\n",
      "사이러스원(CONE.US): 2Q20 Review:  높은 하이퍼스케일 수요 지속\n",
      "이비덴(4062.JP): 불확실성과 호실적 사이\n",
      "항서제약(600276.CH): 2Q20 Re: 코로나19로 마취·진정제 매출 감소하며 컨센서스 하회\n",
      "마스터카드(MA.US): 2Q20 Review: 주요 지표 개선, 해외결제는 더 기다려야\n",
      "로레알(OR.FP): 1H20 Review: 하반기에도 높은 기대감\n",
      "알파벳(GOOGL.US) : 2Q20 Review : 회복 중\n"
     ]
    }
   ],
   "source": [
    "titles = soup.find_all(\"a\", {\"title\":\"더보기\"})\n",
    "num = 0\n",
    "for title in titles:\n",
    "    if num%2 == 0:\n",
    "        print(title.text)\n",
    "    else:\n",
    "        pass\n",
    "    num += 1"
   ]
  },
  {
   "cell_type": "code",
   "execution_count": 48,
   "metadata": {},
   "outputs": [
    {
     "name": "stdout",
     "output_type": "stream",
     "text": [
      "2020.08.05\n",
      " 20:58\n",
      "2020.08.05\n",
      " 10:32\n",
      "2020.08.04\n",
      " 22:04\n",
      "2020.08.04\n",
      " 16:46\n",
      "2020.08.04\n",
      " 13:54\n",
      "2020.08.03\n",
      " 21:45\n",
      "2020.08.03\n",
      " 18:26\n",
      "2020.08.03\n",
      " 16:40\n",
      "2020.08.03\n",
      " 15:28\n",
      "2020.08.02\n",
      " 21:42\n"
     ]
    }
   ],
   "source": [
    "dates = soup.find_all(\"span\", {\"class\":\"txtbasic\"})\n",
    "for date in dates:\n",
    "    print(date.text)"
   ]
  },
  {
   "cell_type": "code",
   "execution_count": null,
   "metadata": {},
   "outputs": [],
   "source": []
  },
  {
   "cell_type": "code",
   "execution_count": null,
   "metadata": {},
   "outputs": [],
   "source": []
  }
 ],
 "metadata": {
  "kernelspec": {
   "display_name": "Python 3",
   "language": "python",
   "name": "python3"
  },
  "language_info": {
   "codemirror_mode": {
    "name": "ipython",
    "version": 3
   },
   "file_extension": ".py",
   "mimetype": "text/x-python",
   "name": "python",
   "nbconvert_exporter": "python",
   "pygments_lexer": "ipython3",
   "version": "3.7.3"
  }
 },
 "nbformat": 4,
 "nbformat_minor": 2
}
