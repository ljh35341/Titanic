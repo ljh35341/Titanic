{
 "cells": [
  {
   "cell_type": "code",
   "execution_count": 1,
   "metadata": {},
   "outputs": [],
   "source": [
    "api_key = \"\"\n",
    "channel_id = \"\""
   ]
  },
  {
   "cell_type": "code",
   "execution_count": 2,
   "metadata": {},
   "outputs": [],
   "source": [
    "from googleapiclient.discovery import build\n",
    "youtube = build(\"youtube\", \"v3\", developerKey=api_key)"
   ]
  },
  {
   "cell_type": "code",
   "execution_count": 3,
   "metadata": {},
   "outputs": [],
   "source": [
    "def get_channel_videos(channel_id):\n",
    "    res = youtube.channels().list(id=channel_id,\n",
    "                                 part=\"contentDetails\").execute()\n",
    "    playlist_id = res[\"items\"][0][\"contentDetails\"][\"relatedPlaylists\"][\"uploads\"]\n",
    "    \n",
    "    videos = []\n",
    "    next_page_token = None\n",
    "    \n",
    "    while 1:\n",
    "        res = youtube.playlistItems().list(playlistId=playlist_id,\n",
    "                                          part=\"snippet\",\n",
    "                                          maxResults=50,\n",
    "                                          pageToken=next_page_token).execute()\n",
    "        videos += res[\"items\"]\n",
    "        next_page_token = res.get(\"nextPageToken\")\n",
    "        \n",
    "        if next_page_token is None:\n",
    "            break\n",
    "    \n",
    "    return videos"
   ]
  },
  {
   "cell_type": "code",
   "execution_count": 4,
   "metadata": {},
   "outputs": [],
   "source": [
    "videos = get_channel_videos(channel_id)"
   ]
  },
  {
   "cell_type": "code",
   "execution_count": 5,
   "metadata": {},
   "outputs": [],
   "source": [
    "res = youtube.videos().list(id=videos[0][\"snippet\"][\"resourceId\"][\"videoId\"],\n",
    "                           part=\"statistics\").execute()"
   ]
  },
  {
   "cell_type": "code",
   "execution_count": 6,
   "metadata": {},
   "outputs": [],
   "source": [
    "video_ids = list(map(lambda x:x['snippet']['resourceId']['videoId'], videos))"
   ]
  },
  {
   "cell_type": "code",
   "execution_count": 7,
   "metadata": {},
   "outputs": [],
   "source": [
    "def get_videos_stats(video_ids):\n",
    "    stats = []\n",
    "    for i in range(0, len(video_ids), 50):\n",
    "        res = youtube.videos().list(id=','.join(video_ids[i:i+50]),\n",
    "                                   part='statistics').execute()\n",
    "        stats += res['items']\n",
    "    return stats"
   ]
  },
  {
   "cell_type": "code",
   "execution_count": 8,
   "metadata": {},
   "outputs": [],
   "source": [
    "stats = get_videos_stats(video_ids)"
   ]
  },
  {
   "cell_type": "code",
   "execution_count": 20,
   "metadata": {},
   "outputs": [
    {
     "data": {
      "text/plain": [
       "{'kind': 'youtube#video',\n",
       " 'etag': '7Rc1TWwxcWVok6RWwJUqVKlbo64',\n",
       " 'id': 'gRQ2Db06QMg',\n",
       " 'statistics': {'viewCount': '11012',\n",
       "  'likeCount': '442',\n",
       "  'dislikeCount': '10',\n",
       "  'favoriteCount': '0',\n",
       "  'commentCount': '35'}}"
      ]
     },
     "execution_count": 20,
     "metadata": {},
     "output_type": "execute_result"
    }
   ],
   "source": [
    "stats[100]"
   ]
  },
  {
   "cell_type": "markdown",
   "metadata": {},
   "source": [
    "# likeCount와 dislikeCount와 commentCount"
   ]
  },
  {
   "cell_type": "code",
   "execution_count": 42,
   "metadata": {},
   "outputs": [],
   "source": [
    "publishedAt = []\n",
    "title = []\n",
    "viewCount = []\n",
    "likeCount = []\n",
    "dislikeCount = []\n",
    "commentCount = []\n",
    "\n",
    "for i in range(len(videos)):\n",
    "    publishedAt.append(videos[i]['snippet']['publishedAt'])\n",
    "    title.append(videos[i]['snippet']['title'])\n",
    "    viewCount.append(stats[i]['statistics']['viewCount'])\n",
    "    likeCount.append(stats[i]['statistics']['likeCount'])\n",
    "    dislikeCount.append(stats[i]['statistics']['dislikeCount'])\n",
    "    commentCount.append(stats[i]['statistics']['commentCount'])"
   ]
  },
  {
   "cell_type": "code",
   "execution_count": 43,
   "metadata": {},
   "outputs": [],
   "source": [
    "dict = {}\n",
    "dict[\"publishedAt\"] = publishedAt\n",
    "dict[\"title\"] = title\n",
    "dict[\"viewCount\"] = viewCount\n",
    "dict['likeCount'] = likeCount\n",
    "dict['dislikeCount'] = dislikeCount\n",
    "dict['commentCount'] = commentCount"
   ]
  },
  {
   "cell_type": "code",
   "execution_count": 44,
   "metadata": {},
   "outputs": [],
   "source": [
    "import pandas as pd\n",
    "df = pd.DataFrame.from_dict(dict)"
   ]
  },
  {
   "cell_type": "markdown",
   "metadata": {},
   "source": [
    "# int로 변환"
   ]
  },
  {
   "cell_type": "code",
   "execution_count": 45,
   "metadata": {},
   "outputs": [],
   "source": [
    "df['viewCount'] = df['viewCount'].astype(int)\n",
    "df['likeCount'] = df['likeCount'].astype(int)\n",
    "df['dislikeCount'] = df['dislikeCount'].astype(int)\n",
    "df['commentCount'] = df['commentCount'].astype(int)"
   ]
  },
  {
   "cell_type": "code",
   "execution_count": 46,
   "metadata": {},
   "outputs": [
    {
     "data": {
      "text/html": [
       "<div>\n",
       "<style scoped>\n",
       "    .dataframe tbody tr th:only-of-type {\n",
       "        vertical-align: middle;\n",
       "    }\n",
       "\n",
       "    .dataframe tbody tr th {\n",
       "        vertical-align: top;\n",
       "    }\n",
       "\n",
       "    .dataframe thead th {\n",
       "        text-align: right;\n",
       "    }\n",
       "</style>\n",
       "<table border=\"1\" class=\"dataframe\">\n",
       "  <thead>\n",
       "    <tr style=\"text-align: right;\">\n",
       "      <th></th>\n",
       "      <th>publishedAt</th>\n",
       "      <th>title</th>\n",
       "      <th>viewCount</th>\n",
       "      <th>likeCount</th>\n",
       "      <th>dislikeCount</th>\n",
       "      <th>commentCount</th>\n",
       "    </tr>\n",
       "  </thead>\n",
       "  <tbody>\n",
       "    <tr>\n",
       "      <th>0</th>\n",
       "      <td>2021-04-09T21:00:13Z</td>\n",
       "      <td>에이치엘비 진양곤회장이 기업을 인수하면 모든 게 확 바뀐다!!</td>\n",
       "      <td>1854</td>\n",
       "      <td>199</td>\n",
       "      <td>8</td>\n",
       "      <td>12</td>\n",
       "    </tr>\n",
       "    <tr>\n",
       "      <th>1</th>\n",
       "      <td>2021-04-09T09:00:28Z</td>\n",
       "      <td>에이치엘비 뇌종양 항암효과 네이처 자매지에 실렸다!</td>\n",
       "      <td>9280</td>\n",
       "      <td>472</td>\n",
       "      <td>12</td>\n",
       "      <td>81</td>\n",
       "    </tr>\n",
       "    <tr>\n",
       "      <th>2</th>\n",
       "      <td>2021-04-09T03:00:10Z</td>\n",
       "      <td>에이치엘비 증선위가 무증 효과를 지웠다!!</td>\n",
       "      <td>7701</td>\n",
       "      <td>329</td>\n",
       "      <td>7</td>\n",
       "      <td>39</td>\n",
       "    </tr>\n",
       "    <tr>\n",
       "      <th>3</th>\n",
       "      <td>2021-04-08T21:00:31Z</td>\n",
       "      <td>에이치엘비 베리스모 CAR-T 중국 시장 진출 본격화하면 현재 긴밀한 관계를 맺고 ...</td>\n",
       "      <td>5181</td>\n",
       "      <td>311</td>\n",
       "      <td>4</td>\n",
       "      <td>38</td>\n",
       "    </tr>\n",
       "    <tr>\n",
       "      <th>4</th>\n",
       "      <td>2021-04-08T08:00:09Z</td>\n",
       "      <td>에이치엘비 CAR-T 상업화 최소 3년이상 앞당길 수 있다!! CAR-T세포가 활성...</td>\n",
       "      <td>6944</td>\n",
       "      <td>336</td>\n",
       "      <td>7</td>\n",
       "      <td>35</td>\n",
       "    </tr>\n",
       "  </tbody>\n",
       "</table>\n",
       "</div>"
      ],
      "text/plain": [
       "            publishedAt                                              title  \\\n",
       "0  2021-04-09T21:00:13Z                 에이치엘비 진양곤회장이 기업을 인수하면 모든 게 확 바뀐다!!   \n",
       "1  2021-04-09T09:00:28Z                       에이치엘비 뇌종양 항암효과 네이처 자매지에 실렸다!   \n",
       "2  2021-04-09T03:00:10Z                            에이치엘비 증선위가 무증 효과를 지웠다!!   \n",
       "3  2021-04-08T21:00:31Z  에이치엘비 베리스모 CAR-T 중국 시장 진출 본격화하면 현재 긴밀한 관계를 맺고 ...   \n",
       "4  2021-04-08T08:00:09Z  에이치엘비 CAR-T 상업화 최소 3년이상 앞당길 수 있다!! CAR-T세포가 활성...   \n",
       "\n",
       "   viewCount  likeCount  dislikeCount  commentCount  \n",
       "0       1854        199             8            12  \n",
       "1       9280        472            12            81  \n",
       "2       7701        329             7            39  \n",
       "3       5181        311             4            38  \n",
       "4       6944        336             7            35  "
      ]
     },
     "execution_count": 46,
     "metadata": {},
     "output_type": "execute_result"
    }
   ],
   "source": [
    "df.head()"
   ]
  },
  {
   "cell_type": "code",
   "execution_count": 14,
   "metadata": {},
   "outputs": [
    {
     "data": {
      "text/plain": [
       "2595"
      ]
     },
     "execution_count": 14,
     "metadata": {},
     "output_type": "execute_result"
    }
   ],
   "source": [
    "len(df)"
   ]
  },
  {
   "cell_type": "markdown",
   "metadata": {},
   "source": [
    "# 좋아요/싫어요 비율"
   ]
  },
  {
   "cell_type": "code",
   "execution_count": 69,
   "metadata": {},
   "outputs": [],
   "source": [
    "# 0으로 나누는 걸 방지하기 위해 0.001을 더했다.\n",
    "df['likeRatio'] = df['likeCount'] / (df['likeCount'] + df['dislikeCount'] + 0.01)"
   ]
  },
  {
   "cell_type": "code",
   "execution_count": 70,
   "metadata": {},
   "outputs": [
    {
     "data": {
      "text/html": [
       "<div>\n",
       "<style scoped>\n",
       "    .dataframe tbody tr th:only-of-type {\n",
       "        vertical-align: middle;\n",
       "    }\n",
       "\n",
       "    .dataframe tbody tr th {\n",
       "        vertical-align: top;\n",
       "    }\n",
       "\n",
       "    .dataframe thead th {\n",
       "        text-align: right;\n",
       "    }\n",
       "</style>\n",
       "<table border=\"1\" class=\"dataframe\">\n",
       "  <thead>\n",
       "    <tr style=\"text-align: right;\">\n",
       "      <th></th>\n",
       "      <th>publishedAt</th>\n",
       "      <th>title</th>\n",
       "      <th>viewCount</th>\n",
       "      <th>likeCount</th>\n",
       "      <th>dislikeCount</th>\n",
       "      <th>commentCount</th>\n",
       "      <th>likeRatio</th>\n",
       "    </tr>\n",
       "  </thead>\n",
       "  <tbody>\n",
       "    <tr>\n",
       "      <th>0</th>\n",
       "      <td>2021-04-09T21:00:13Z</td>\n",
       "      <td>에이치엘비 진양곤회장이 기업을 인수하면 모든 게 확 바뀐다!!</td>\n",
       "      <td>1854</td>\n",
       "      <td>199</td>\n",
       "      <td>8</td>\n",
       "      <td>12</td>\n",
       "      <td>0.961306</td>\n",
       "    </tr>\n",
       "    <tr>\n",
       "      <th>1</th>\n",
       "      <td>2021-04-09T09:00:28Z</td>\n",
       "      <td>에이치엘비 뇌종양 항암효과 네이처 자매지에 실렸다!</td>\n",
       "      <td>9280</td>\n",
       "      <td>472</td>\n",
       "      <td>12</td>\n",
       "      <td>81</td>\n",
       "      <td>0.975186</td>\n",
       "    </tr>\n",
       "    <tr>\n",
       "      <th>2</th>\n",
       "      <td>2021-04-09T03:00:10Z</td>\n",
       "      <td>에이치엘비 증선위가 무증 효과를 지웠다!!</td>\n",
       "      <td>7701</td>\n",
       "      <td>329</td>\n",
       "      <td>7</td>\n",
       "      <td>39</td>\n",
       "      <td>0.979138</td>\n",
       "    </tr>\n",
       "    <tr>\n",
       "      <th>3</th>\n",
       "      <td>2021-04-08T21:00:31Z</td>\n",
       "      <td>에이치엘비 베리스모 CAR-T 중국 시장 진출 본격화하면 현재 긴밀한 관계를 맺고 ...</td>\n",
       "      <td>5181</td>\n",
       "      <td>311</td>\n",
       "      <td>4</td>\n",
       "      <td>38</td>\n",
       "      <td>0.987270</td>\n",
       "    </tr>\n",
       "    <tr>\n",
       "      <th>4</th>\n",
       "      <td>2021-04-08T08:00:09Z</td>\n",
       "      <td>에이치엘비 CAR-T 상업화 최소 3년이상 앞당길 수 있다!! CAR-T세포가 활성...</td>\n",
       "      <td>6944</td>\n",
       "      <td>336</td>\n",
       "      <td>7</td>\n",
       "      <td>35</td>\n",
       "      <td>0.979563</td>\n",
       "    </tr>\n",
       "  </tbody>\n",
       "</table>\n",
       "</div>"
      ],
      "text/plain": [
       "            publishedAt                                              title  \\\n",
       "0  2021-04-09T21:00:13Z                 에이치엘비 진양곤회장이 기업을 인수하면 모든 게 확 바뀐다!!   \n",
       "1  2021-04-09T09:00:28Z                       에이치엘비 뇌종양 항암효과 네이처 자매지에 실렸다!   \n",
       "2  2021-04-09T03:00:10Z                            에이치엘비 증선위가 무증 효과를 지웠다!!   \n",
       "3  2021-04-08T21:00:31Z  에이치엘비 베리스모 CAR-T 중국 시장 진출 본격화하면 현재 긴밀한 관계를 맺고 ...   \n",
       "4  2021-04-08T08:00:09Z  에이치엘비 CAR-T 상업화 최소 3년이상 앞당길 수 있다!! CAR-T세포가 활성...   \n",
       "\n",
       "   viewCount  likeCount  dislikeCount  commentCount  likeRatio  \n",
       "0       1854        199             8            12   0.961306  \n",
       "1       9280        472            12            81   0.975186  \n",
       "2       7701        329             7            39   0.979138  \n",
       "3       5181        311             4            38   0.987270  \n",
       "4       6944        336             7            35   0.979563  "
      ]
     },
     "execution_count": 70,
     "metadata": {},
     "output_type": "execute_result"
    }
   ],
   "source": [
    "df.head()"
   ]
  },
  {
   "cell_type": "markdown",
   "metadata": {},
   "source": [
    "# 제목에 '에이치엘비'가 없다면 Drop하기"
   ]
  },
  {
   "cell_type": "code",
   "execution_count": 71,
   "metadata": {},
   "outputs": [
    {
     "data": {
      "text/plain": [
       "1449"
      ]
     },
     "execution_count": 71,
     "metadata": {},
     "output_type": "execute_result"
    }
   ],
   "source": [
    "df['에이치엘비'] = df['title'].str.contains('에이치엘비')\n",
    "df = df.loc[(df['에이치엘비'] == True)]\n",
    "len(df)"
   ]
  },
  {
   "cell_type": "markdown",
   "metadata": {},
   "source": [
    "# 제목에 '에이치엘비생명과학'이 있다면 Drop하기"
   ]
  },
  {
   "cell_type": "code",
   "execution_count": 72,
   "metadata": {},
   "outputs": [
    {
     "data": {
      "text/plain": [
       "1412"
      ]
     },
     "execution_count": 72,
     "metadata": {},
     "output_type": "execute_result"
    }
   ],
   "source": [
    "df['에이치엘비생명과학'] = df['title'].str.contains('에이치엘비생명과학')\n",
    "df = df.loc[df['에이치엘비생명과학'] == False]\n",
    "len(df)"
   ]
  },
  {
   "cell_type": "markdown",
   "metadata": {},
   "source": [
    "# 제목에 '에이치엘비제약'이 있다면 Drop하기"
   ]
  },
  {
   "cell_type": "code",
   "execution_count": 73,
   "metadata": {},
   "outputs": [
    {
     "data": {
      "text/plain": [
       "1384"
      ]
     },
     "execution_count": 73,
     "metadata": {},
     "output_type": "execute_result"
    }
   ],
   "source": [
    "df['에이치엘비제약'] = df['title'].str.contains('에이치엘비제약')\n",
    "df = df.loc[(df['에이치엘비제약'] == False)]\n",
    "len(df)"
   ]
  },
  {
   "cell_type": "markdown",
   "metadata": {},
   "source": [
    "# 과거 절반 데이터 Drop하기"
   ]
  },
  {
   "cell_type": "code",
   "execution_count": 74,
   "metadata": {},
   "outputs": [
    {
     "data": {
      "text/plain": [
       "692"
      ]
     },
     "execution_count": 74,
     "metadata": {},
     "output_type": "execute_result"
    }
   ],
   "source": [
    "df_half = df.copy()\n",
    "df_half = df_half[:int(len(df_half)/2)]\n",
    "len(df_half)"
   ]
  },
  {
   "cell_type": "markdown",
   "metadata": {},
   "source": [
    "# 최근 데이터 Drop하기\n",
    "공개된지 몇 시간 되지 않아 아직 조회수가 채워지지 않았기 때문에 같은 기준으로 분석할 수 없다."
   ]
  },
  {
   "cell_type": "code",
   "execution_count": 75,
   "metadata": {},
   "outputs": [],
   "source": [
    "df_half = df_half[5:]"
   ]
  },
  {
   "cell_type": "code",
   "execution_count": 76,
   "metadata": {},
   "outputs": [
    {
     "data": {
      "text/plain": [
       "687"
      ]
     },
     "execution_count": 76,
     "metadata": {},
     "output_type": "execute_result"
    }
   ],
   "source": [
    "len(df_half)"
   ]
  },
  {
   "cell_type": "code",
   "execution_count": 78,
   "metadata": {},
   "outputs": [
    {
     "data": {
      "text/html": [
       "<div>\n",
       "<style scoped>\n",
       "    .dataframe tbody tr th:only-of-type {\n",
       "        vertical-align: middle;\n",
       "    }\n",
       "\n",
       "    .dataframe tbody tr th {\n",
       "        vertical-align: top;\n",
       "    }\n",
       "\n",
       "    .dataframe thead th {\n",
       "        text-align: right;\n",
       "    }\n",
       "</style>\n",
       "<table border=\"1\" class=\"dataframe\">\n",
       "  <thead>\n",
       "    <tr style=\"text-align: right;\">\n",
       "      <th></th>\n",
       "      <th>publishedAt</th>\n",
       "      <th>title</th>\n",
       "      <th>viewCount</th>\n",
       "      <th>likeCount</th>\n",
       "      <th>dislikeCount</th>\n",
       "      <th>commentCount</th>\n",
       "      <th>likeRatio</th>\n",
       "      <th>에이치엘비</th>\n",
       "      <th>에이치엘비생명과학</th>\n",
       "      <th>에이치엘비제약</th>\n",
       "    </tr>\n",
       "  </thead>\n",
       "  <tbody>\n",
       "    <tr>\n",
       "      <th>5</th>\n",
       "      <td>2021-04-08T01:34:11Z</td>\n",
       "      <td>에이치엘비 주주 오세훈 서울시장 당선!!</td>\n",
       "      <td>6070</td>\n",
       "      <td>339</td>\n",
       "      <td>34</td>\n",
       "      <td>48</td>\n",
       "      <td>0.908823</td>\n",
       "      <td>True</td>\n",
       "      <td>False</td>\n",
       "      <td>False</td>\n",
       "    </tr>\n",
       "    <tr>\n",
       "      <th>6</th>\n",
       "      <td>2021-04-07T21:00:15Z</td>\n",
       "      <td>에이치엘비 진양곤 회장은 코르키로부터 확보했던 넥스트사이언스의 메자닌에 대한 콜옵션...</td>\n",
       "      <td>8479</td>\n",
       "      <td>354</td>\n",
       "      <td>7</td>\n",
       "      <td>35</td>\n",
       "      <td>0.980582</td>\n",
       "      <td>True</td>\n",
       "      <td>False</td>\n",
       "      <td>False</td>\n",
       "    </tr>\n",
       "    <tr>\n",
       "      <th>7</th>\n",
       "      <td>2021-04-07T08:15:01Z</td>\n",
       "      <td>에이치엘비 증선위 뉴스기사가 없는 것으로 보아 열리지 않고 무기한 연기 가능성!!</td>\n",
       "      <td>7676</td>\n",
       "      <td>321</td>\n",
       "      <td>7</td>\n",
       "      <td>38</td>\n",
       "      <td>0.978629</td>\n",
       "      <td>True</td>\n",
       "      <td>False</td>\n",
       "      <td>False</td>\n",
       "    </tr>\n",
       "    <tr>\n",
       "      <th>8</th>\n",
       "      <td>2021-04-07T03:00:11Z</td>\n",
       "      <td>에이치엘비가 뛰어든 CAR-T치료제의 부작용은 노바티스와 길리어드사이언스에서도 보이...</td>\n",
       "      <td>3196</td>\n",
       "      <td>181</td>\n",
       "      <td>3</td>\n",
       "      <td>16</td>\n",
       "      <td>0.983642</td>\n",
       "      <td>True</td>\n",
       "      <td>False</td>\n",
       "      <td>False</td>\n",
       "    </tr>\n",
       "    <tr>\n",
       "      <th>9</th>\n",
       "      <td>2021-04-06T21:00:09Z</td>\n",
       "      <td>에이치엘비 CAR-T는 암환자 숫자의 90% 이상인 고형암을 공략하고 노바티스 CA...</td>\n",
       "      <td>5508</td>\n",
       "      <td>325</td>\n",
       "      <td>3</td>\n",
       "      <td>31</td>\n",
       "      <td>0.990823</td>\n",
       "      <td>True</td>\n",
       "      <td>False</td>\n",
       "      <td>False</td>\n",
       "    </tr>\n",
       "  </tbody>\n",
       "</table>\n",
       "</div>"
      ],
      "text/plain": [
       "            publishedAt                                              title  \\\n",
       "5  2021-04-08T01:34:11Z                             에이치엘비 주주 오세훈 서울시장 당선!!   \n",
       "6  2021-04-07T21:00:15Z  에이치엘비 진양곤 회장은 코르키로부터 확보했던 넥스트사이언스의 메자닌에 대한 콜옵션...   \n",
       "7  2021-04-07T08:15:01Z      에이치엘비 증선위 뉴스기사가 없는 것으로 보아 열리지 않고 무기한 연기 가능성!!   \n",
       "8  2021-04-07T03:00:11Z  에이치엘비가 뛰어든 CAR-T치료제의 부작용은 노바티스와 길리어드사이언스에서도 보이...   \n",
       "9  2021-04-06T21:00:09Z  에이치엘비 CAR-T는 암환자 숫자의 90% 이상인 고형암을 공략하고 노바티스 CA...   \n",
       "\n",
       "   viewCount  likeCount  dislikeCount  commentCount  likeRatio  에이치엘비  \\\n",
       "5       6070        339            34            48   0.908823   True   \n",
       "6       8479        354             7            35   0.980582   True   \n",
       "7       7676        321             7            38   0.978629   True   \n",
       "8       3196        181             3            16   0.983642   True   \n",
       "9       5508        325             3            31   0.990823   True   \n",
       "\n",
       "   에이치엘비생명과학  에이치엘비제약  \n",
       "5      False    False  \n",
       "6      False    False  \n",
       "7      False    False  \n",
       "8      False    False  \n",
       "9      False    False  "
      ]
     },
     "execution_count": 78,
     "metadata": {},
     "output_type": "execute_result"
    }
   ],
   "source": [
    "df_half.head()"
   ]
  },
  {
   "cell_type": "markdown",
   "metadata": {},
   "source": [
    "# 분석을 위해 숫자 데이터만 남기고 Drop하기"
   ]
  },
  {
   "cell_type": "code",
   "execution_count": 82,
   "metadata": {},
   "outputs": [],
   "source": [
    "df_analysis = df_half[['viewCount','likeCount','dislikeCount','commentCount','likeRatio']]"
   ]
  },
  {
   "cell_type": "code",
   "execution_count": 83,
   "metadata": {},
   "outputs": [
    {
     "data": {
      "text/html": [
       "<div>\n",
       "<style scoped>\n",
       "    .dataframe tbody tr th:only-of-type {\n",
       "        vertical-align: middle;\n",
       "    }\n",
       "\n",
       "    .dataframe tbody tr th {\n",
       "        vertical-align: top;\n",
       "    }\n",
       "\n",
       "    .dataframe thead th {\n",
       "        text-align: right;\n",
       "    }\n",
       "</style>\n",
       "<table border=\"1\" class=\"dataframe\">\n",
       "  <thead>\n",
       "    <tr style=\"text-align: right;\">\n",
       "      <th></th>\n",
       "      <th>viewCount</th>\n",
       "      <th>likeCount</th>\n",
       "      <th>dislikeCount</th>\n",
       "      <th>commentCount</th>\n",
       "      <th>likeRatio</th>\n",
       "    </tr>\n",
       "  </thead>\n",
       "  <tbody>\n",
       "    <tr>\n",
       "      <th>5</th>\n",
       "      <td>6070</td>\n",
       "      <td>339</td>\n",
       "      <td>34</td>\n",
       "      <td>48</td>\n",
       "      <td>0.908823</td>\n",
       "    </tr>\n",
       "    <tr>\n",
       "      <th>6</th>\n",
       "      <td>8479</td>\n",
       "      <td>354</td>\n",
       "      <td>7</td>\n",
       "      <td>35</td>\n",
       "      <td>0.980582</td>\n",
       "    </tr>\n",
       "    <tr>\n",
       "      <th>7</th>\n",
       "      <td>7676</td>\n",
       "      <td>321</td>\n",
       "      <td>7</td>\n",
       "      <td>38</td>\n",
       "      <td>0.978629</td>\n",
       "    </tr>\n",
       "    <tr>\n",
       "      <th>8</th>\n",
       "      <td>3196</td>\n",
       "      <td>181</td>\n",
       "      <td>3</td>\n",
       "      <td>16</td>\n",
       "      <td>0.983642</td>\n",
       "    </tr>\n",
       "    <tr>\n",
       "      <th>9</th>\n",
       "      <td>5508</td>\n",
       "      <td>325</td>\n",
       "      <td>3</td>\n",
       "      <td>31</td>\n",
       "      <td>0.990823</td>\n",
       "    </tr>\n",
       "  </tbody>\n",
       "</table>\n",
       "</div>"
      ],
      "text/plain": [
       "   viewCount  likeCount  dislikeCount  commentCount  likeRatio\n",
       "5       6070        339            34            48   0.908823\n",
       "6       8479        354             7            35   0.980582\n",
       "7       7676        321             7            38   0.978629\n",
       "8       3196        181             3            16   0.983642\n",
       "9       5508        325             3            31   0.990823"
      ]
     },
     "execution_count": 83,
     "metadata": {},
     "output_type": "execute_result"
    }
   ],
   "source": [
    "df_analysis.head()"
   ]
  },
  {
   "cell_type": "markdown",
   "metadata": {},
   "source": [
    "# 상관관계 구하기\n",
    "참고 링크 : https://gomguard.tistory.com/173"
   ]
  },
  {
   "cell_type": "code",
   "execution_count": 85,
   "metadata": {},
   "outputs": [
    {
     "data": {
      "text/html": [
       "<div>\n",
       "<style scoped>\n",
       "    .dataframe tbody tr th:only-of-type {\n",
       "        vertical-align: middle;\n",
       "    }\n",
       "\n",
       "    .dataframe tbody tr th {\n",
       "        vertical-align: top;\n",
       "    }\n",
       "\n",
       "    .dataframe thead th {\n",
       "        text-align: right;\n",
       "    }\n",
       "</style>\n",
       "<table border=\"1\" class=\"dataframe\">\n",
       "  <thead>\n",
       "    <tr style=\"text-align: right;\">\n",
       "      <th></th>\n",
       "      <th>viewCount</th>\n",
       "      <th>likeCount</th>\n",
       "      <th>dislikeCount</th>\n",
       "      <th>commentCount</th>\n",
       "      <th>likeRatio</th>\n",
       "    </tr>\n",
       "  </thead>\n",
       "  <tbody>\n",
       "    <tr>\n",
       "      <th>viewCount</th>\n",
       "      <td>1.000000</td>\n",
       "      <td>0.854699</td>\n",
       "      <td>0.638831</td>\n",
       "      <td>0.773863</td>\n",
       "      <td>-0.071445</td>\n",
       "    </tr>\n",
       "    <tr>\n",
       "      <th>likeCount</th>\n",
       "      <td>0.854699</td>\n",
       "      <td>1.000000</td>\n",
       "      <td>0.585636</td>\n",
       "      <td>0.786839</td>\n",
       "      <td>0.079149</td>\n",
       "    </tr>\n",
       "    <tr>\n",
       "      <th>dislikeCount</th>\n",
       "      <td>0.638831</td>\n",
       "      <td>0.585636</td>\n",
       "      <td>1.000000</td>\n",
       "      <td>0.539844</td>\n",
       "      <td>-0.660223</td>\n",
       "    </tr>\n",
       "    <tr>\n",
       "      <th>commentCount</th>\n",
       "      <td>0.773863</td>\n",
       "      <td>0.786839</td>\n",
       "      <td>0.539844</td>\n",
       "      <td>1.000000</td>\n",
       "      <td>-0.007406</td>\n",
       "    </tr>\n",
       "    <tr>\n",
       "      <th>likeRatio</th>\n",
       "      <td>-0.071445</td>\n",
       "      <td>0.079149</td>\n",
       "      <td>-0.660223</td>\n",
       "      <td>-0.007406</td>\n",
       "      <td>1.000000</td>\n",
       "    </tr>\n",
       "  </tbody>\n",
       "</table>\n",
       "</div>"
      ],
      "text/plain": [
       "              viewCount  likeCount  dislikeCount  commentCount  likeRatio\n",
       "viewCount      1.000000   0.854699      0.638831      0.773863  -0.071445\n",
       "likeCount      0.854699   1.000000      0.585636      0.786839   0.079149\n",
       "dislikeCount   0.638831   0.585636      1.000000      0.539844  -0.660223\n",
       "commentCount   0.773863   0.786839      0.539844      1.000000  -0.007406\n",
       "likeRatio     -0.071445   0.079149     -0.660223     -0.007406   1.000000"
      ]
     },
     "execution_count": 85,
     "metadata": {},
     "output_type": "execute_result"
    }
   ],
   "source": [
    "df_analysis.corr(method='pearson')"
   ]
  },
  {
   "cell_type": "markdown",
   "metadata": {},
   "source": [
    "# Results\n",
    "viewCount와 상관관계가 높은 지표는 순서대로 likeCount(0.85), commentCount(0.77)이 있다.  \n",
    "즉, 좋아요와 댓글이 많으면 조회수가 높다. 조회수가 높으면 좋아요와 댓글이 많다."
   ]
  },
  {
   "cell_type": "markdown",
   "metadata": {},
   "source": [
    "# Conclusion\n",
    "좋아요수와 댓글수는 조회수와 강한 상관관계를 갖는다. 좋아요수와 댓글수를 높이는 노력을 한다.  \n",
    "하지만 이는 상관관계이므로 향후 인과관계를 밝혀내기 위한 연구와 실험을 해야 할 것이다.  \n",
    "  \n",
    "경험적으로 조회수가 높은 영상은 전체 공개 후 빠르면 10분, 늦으면 1시간 이내 조회수가 얼마까지 갈지 예측할 수 있었다.  \n",
    "그 이유는 아마도 조회수 증가속도, 좋아요수, 댓글수가 선행지표이기 때문이다.  \n",
    "예를 들어, 조회수 증가속도가 2배인가 3배인가에 따라 예측되는 최종 조회수가 있다.  \n",
    "마찬가지로, 좋아요수가 몇 개인가에 따라 역시 다른 영상 조회수와 비교하여 예측되는 최종 조회수가 있다.  \n",
    "중요한 사실은 아직 조회수가 점근선에 도달하지 않았을 때 미리 알 수 있다는 사실이다.  \n",
    "경험적인 근거가 있으나 숫자 데이터로 확인하기까지는 확신할 수 없다. 계속 연구를 진행한다."
   ]
  }
 ],
 "metadata": {
  "kernelspec": {
   "display_name": "Python 3",
   "language": "python",
   "name": "python3"
  },
  "language_info": {
   "codemirror_mode": {
    "name": "ipython",
    "version": 3
   },
   "file_extension": ".py",
   "mimetype": "text/x-python",
   "name": "python",
   "nbconvert_exporter": "python",
   "pygments_lexer": "ipython3",
   "version": "3.7.3"
  }
 },
 "nbformat": 4,
 "nbformat_minor": 2
}
