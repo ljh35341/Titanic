{
 "cells": [
  {
   "cell_type": "markdown",
   "metadata": {},
   "source": [
    "# Preprocessing"
   ]
  },
  {
   "cell_type": "code",
   "execution_count": 1,
   "metadata": {},
   "outputs": [],
   "source": [
    "api_key = \"\"\n",
    "channel_id = \"\""
   ]
  },
  {
   "cell_type": "code",
   "execution_count": 2,
   "metadata": {},
   "outputs": [],
   "source": [
    "from googleapiclient.discovery import build\n",
    "youtube = build(\"youtube\", \"v3\", developerKey=api_key)"
   ]
  },
  {
   "cell_type": "code",
   "execution_count": 3,
   "metadata": {},
   "outputs": [],
   "source": [
    "def get_channel_videos(channel_id):\n",
    "    res = youtube.channels().list(id=channel_id,\n",
    "                                 part=\"contentDetails\").execute()\n",
    "    playlist_id = res[\"items\"][0][\"contentDetails\"][\"relatedPlaylists\"][\"uploads\"]\n",
    "    \n",
    "    videos = []\n",
    "    next_page_token = None\n",
    "    \n",
    "    while 1:\n",
    "        res = youtube.playlistItems().list(playlistId=playlist_id,\n",
    "                                          part=\"snippet\",\n",
    "                                          maxResults=50,\n",
    "                                          pageToken=next_page_token).execute()\n",
    "        videos += res[\"items\"]\n",
    "        next_page_token = res.get(\"nextPageToken\")\n",
    "        \n",
    "        if next_page_token is None:\n",
    "            break\n",
    "    \n",
    "    return videos"
   ]
  },
  {
   "cell_type": "code",
   "execution_count": 4,
   "metadata": {},
   "outputs": [],
   "source": [
    "videos = get_channel_videos(channel_id)"
   ]
  },
  {
   "cell_type": "code",
   "execution_count": 5,
   "metadata": {},
   "outputs": [],
   "source": [
    "res = youtube.videos().list(id=videos[0][\"snippet\"][\"resourceId\"][\"videoId\"],\n",
    "                           part=\"statistics\").execute()"
   ]
  },
  {
   "cell_type": "code",
   "execution_count": 6,
   "metadata": {},
   "outputs": [],
   "source": [
    "video_ids = list(map(lambda x:x['snippet']['resourceId']['videoId'], videos))"
   ]
  },
  {
   "cell_type": "code",
   "execution_count": 7,
   "metadata": {},
   "outputs": [],
   "source": [
    "def get_videos_stats(video_ids):\n",
    "    stats = []\n",
    "    for i in range(0, len(video_ids), 50):\n",
    "        res = youtube.videos().list(id=','.join(video_ids[i:i+50]),\n",
    "                                   part='statistics').execute()\n",
    "        stats += res['items']\n",
    "    return stats"
   ]
  },
  {
   "cell_type": "code",
   "execution_count": 8,
   "metadata": {},
   "outputs": [],
   "source": [
    "stats = get_videos_stats(video_ids)"
   ]
  },
  {
   "cell_type": "markdown",
   "metadata": {},
   "source": [
    "# List Before Dataframe"
   ]
  },
  {
   "cell_type": "code",
   "execution_count": 24,
   "metadata": {},
   "outputs": [],
   "source": [
    "publishedAt = []\n",
    "title = []\n",
    "viewCount = []\n",
    "likeCount = []\n",
    "dislikeCount = []\n",
    "commentCount = []\n",
    "\n",
    "for i in range(len(videos)):\n",
    "    publishedAt.append(videos[i]['snippet']['publishedAt'])\n",
    "    title.append(videos[i]['snippet']['title'])\n",
    "    viewCount.append(stats[i]['statistics']['viewCount'])\n",
    "    likeCount.append(stats[i]['statistics']['likeCount'])\n",
    "    dislikeCount.append(stats[i]['statistics']['dislikeCount'])\n",
    "    commentCount.append(stats[i]['statistics']['commentCount'])"
   ]
  },
  {
   "cell_type": "markdown",
   "metadata": {},
   "source": [
    "# Dataframe\n",
    "공개일, 제목, 조회수, 좋아요수, 싫어요수, 댓글수"
   ]
  },
  {
   "cell_type": "code",
   "execution_count": 25,
   "metadata": {},
   "outputs": [],
   "source": [
    "import pandas as pd\n",
    "names = ['publishedAt', 'title', 'viewCount', 'likeCount', 'dislikeCount', 'commentCount']\n",
    "df = pd.DataFrame(data=list(zip(publishedAt, title, viewCount, likeCount, dislikeCount, commentCount)),\n",
    "                 columns=names)"
   ]
  },
  {
   "cell_type": "markdown",
   "metadata": {},
   "source": [
    "# int로 변환"
   ]
  },
  {
   "cell_type": "code",
   "execution_count": 26,
   "metadata": {},
   "outputs": [],
   "source": [
    "df['viewCount'] = df['viewCount'].astype(int)\n",
    "df['likeCount'] = df['likeCount'].astype(int)\n",
    "df['dislikeCount'] = df['dislikeCount'].astype(int)\n",
    "df['commentCount'] = df['commentCount'].astype(int)"
   ]
  },
  {
   "cell_type": "markdown",
   "metadata": {},
   "source": [
    "# 라이브 영상 Drop하기"
   ]
  },
  {
   "cell_type": "code",
   "execution_count": 27,
   "metadata": {},
   "outputs": [],
   "source": [
    "import re\n",
    "def reg_live(word):\n",
    "    if re.compile('라이브').search(word):\n",
    "        return True\n",
    "    else:\n",
    "        return False"
   ]
  },
  {
   "cell_type": "code",
   "execution_count": 28,
   "metadata": {},
   "outputs": [],
   "source": [
    "df['live'] = df['title'].apply(reg_live)"
   ]
  },
  {
   "cell_type": "code",
   "execution_count": 29,
   "metadata": {},
   "outputs": [
    {
     "data": {
      "text/plain": [
       "2590"
      ]
     },
     "execution_count": 29,
     "metadata": {},
     "output_type": "execute_result"
    }
   ],
   "source": [
    "df = df.loc[(df['live'] == False)]\n",
    "len(df)"
   ]
  },
  {
   "cell_type": "markdown",
   "metadata": {},
   "source": [
    "# 과거 절반 데이터 Drop하기"
   ]
  },
  {
   "cell_type": "code",
   "execution_count": 30,
   "metadata": {},
   "outputs": [
    {
     "data": {
      "text/plain": [
       "1295"
      ]
     },
     "execution_count": 30,
     "metadata": {},
     "output_type": "execute_result"
    }
   ],
   "source": [
    "df = df[:int(len(df)/2)]\n",
    "len(df)"
   ]
  },
  {
   "cell_type": "markdown",
   "metadata": {},
   "source": [
    "# 최근 데이터 Drop하기\n",
    "공개된지 몇 시간 되지 않아 아직 조회수가 채워지지 않았기 때문에 같은 기준으로 분석할 수 없다."
   ]
  },
  {
   "cell_type": "code",
   "execution_count": 31,
   "metadata": {
    "scrolled": false
   },
   "outputs": [
    {
     "data": {
      "text/plain": [
       "1290"
      ]
     },
     "execution_count": 31,
     "metadata": {},
     "output_type": "execute_result"
    }
   ],
   "source": [
    "df = df[5:]\n",
    "len(df)"
   ]
  },
  {
   "cell_type": "markdown",
   "metadata": {},
   "source": [
    "# 필요한 column 빼고 전부 Drop하기"
   ]
  },
  {
   "cell_type": "code",
   "execution_count": 32,
   "metadata": {},
   "outputs": [],
   "source": [
    "df = df[['title', 'viewCount']]"
   ]
  },
  {
   "cell_type": "markdown",
   "metadata": {},
   "source": [
    "# 전처리 완료"
   ]
  },
  {
   "cell_type": "code",
   "execution_count": 33,
   "metadata": {},
   "outputs": [
    {
     "data": {
      "text/html": [
       "<div>\n",
       "<style scoped>\n",
       "    .dataframe tbody tr th:only-of-type {\n",
       "        vertical-align: middle;\n",
       "    }\n",
       "\n",
       "    .dataframe tbody tr th {\n",
       "        vertical-align: top;\n",
       "    }\n",
       "\n",
       "    .dataframe thead th {\n",
       "        text-align: right;\n",
       "    }\n",
       "</style>\n",
       "<table border=\"1\" class=\"dataframe\">\n",
       "  <thead>\n",
       "    <tr style=\"text-align: right;\">\n",
       "      <th></th>\n",
       "      <th>title</th>\n",
       "      <th>viewCount</th>\n",
       "    </tr>\n",
       "  </thead>\n",
       "  <tbody>\n",
       "    <tr>\n",
       "      <th>6</th>\n",
       "      <td>에이치엘비 엘제인수 큰그림! 노벨상 받은 노바티스 신약 FDA승인거절</td>\n",
       "      <td>8203</td>\n",
       "    </tr>\n",
       "    <tr>\n",
       "      <th>7</th>\n",
       "      <td>에이치엘비 롤모델 길리어드는 효능이 좋은데 왜 FDA승인거절 받았는가?</td>\n",
       "      <td>3966</td>\n",
       "    </tr>\n",
       "    <tr>\n",
       "      <th>9</th>\n",
       "      <td>에이치엘비생명과학 인공지능으로 적응증 찾는다!</td>\n",
       "      <td>3856</td>\n",
       "    </tr>\n",
       "    <tr>\n",
       "      <th>10</th>\n",
       "      <td>에이치엘비 하락 멈춰!</td>\n",
       "      <td>8837</td>\n",
       "    </tr>\n",
       "    <tr>\n",
       "      <th>11</th>\n",
       "      <td>에이치엘비 진양곤 회장의 넥사인수와 엘제인수의 공통점!!</td>\n",
       "      <td>10051</td>\n",
       "    </tr>\n",
       "  </tbody>\n",
       "</table>\n",
       "</div>"
      ],
      "text/plain": [
       "                                      title  viewCount\n",
       "6    에이치엘비 엘제인수 큰그림! 노벨상 받은 노바티스 신약 FDA승인거절       8203\n",
       "7   에이치엘비 롤모델 길리어드는 효능이 좋은데 왜 FDA승인거절 받았는가?       3966\n",
       "9                 에이치엘비생명과학 인공지능으로 적응증 찾는다!       3856\n",
       "10                             에이치엘비 하락 멈춰!       8837\n",
       "11          에이치엘비 진양곤 회장의 넥사인수와 엘제인수의 공통점!!      10051"
      ]
     },
     "execution_count": 33,
     "metadata": {},
     "output_type": "execute_result"
    }
   ],
   "source": [
    "df.head()"
   ]
  },
  {
   "cell_type": "code",
   "execution_count": null,
   "metadata": {},
   "outputs": [],
   "source": []
  },
  {
   "cell_type": "markdown",
   "metadata": {},
   "source": [
    "# 분석"
   ]
  },
  {
   "cell_type": "markdown",
   "metadata": {},
   "source": [
    "# 제목에 '에이치엘비'가 있다면 Drop하기"
   ]
  },
  {
   "cell_type": "code",
   "execution_count": 34,
   "metadata": {},
   "outputs": [
    {
     "data": {
      "text/plain": [
       "184"
      ]
     },
     "execution_count": 34,
     "metadata": {},
     "output_type": "execute_result"
    }
   ],
   "source": [
    "df['에이치엘비'] = df['title'].str.contains('에이치엘비')\n",
    "df = df.loc[(df['에이치엘비'] == False)]\n",
    "len(df)"
   ]
  },
  {
   "cell_type": "markdown",
   "metadata": {},
   "source": [
    "# 조회수 상위 순으로 정렬하기"
   ]
  },
  {
   "cell_type": "code",
   "execution_count": 36,
   "metadata": {},
   "outputs": [
    {
     "data": {
      "text/html": [
       "<div>\n",
       "<style scoped>\n",
       "    .dataframe tbody tr th:only-of-type {\n",
       "        vertical-align: middle;\n",
       "    }\n",
       "\n",
       "    .dataframe tbody tr th {\n",
       "        vertical-align: top;\n",
       "    }\n",
       "\n",
       "    .dataframe thead th {\n",
       "        text-align: right;\n",
       "    }\n",
       "</style>\n",
       "<table border=\"1\" class=\"dataframe\">\n",
       "  <thead>\n",
       "    <tr style=\"text-align: right;\">\n",
       "      <th></th>\n",
       "      <th>title</th>\n",
       "      <th>viewCount</th>\n",
       "      <th>에이치엘비</th>\n",
       "    </tr>\n",
       "  </thead>\n",
       "  <tbody>\n",
       "    <tr>\n",
       "      <th>1217</th>\n",
       "      <td>대규모 유상증자를 하면 주가는 어떻게 되나요?</td>\n",
       "      <td>12919</td>\n",
       "      <td>False</td>\n",
       "    </tr>\n",
       "    <tr>\n",
       "      <th>367</th>\n",
       "      <td>박셀바이오 지금까지 제가 생각하고 느껴왔던 모든 것을 말씀드립니다. 새해복 많이 받...</td>\n",
       "      <td>10036</td>\n",
       "      <td>False</td>\n",
       "    </tr>\n",
       "    <tr>\n",
       "      <th>337</th>\n",
       "      <td>메지온 NDA재신청 '이르면 1분기 내'라는 표현이 왜 지연우려감이 된 것일까?! ...</td>\n",
       "      <td>7088</td>\n",
       "      <td>False</td>\n",
       "    </tr>\n",
       "    <tr>\n",
       "      <th>1111</th>\n",
       "      <td>매번 금융위기 때 등장하는 풋옵션 대박. 옵션이란 무엇일까</td>\n",
       "      <td>6627</td>\n",
       "      <td>False</td>\n",
       "    </tr>\n",
       "    <tr>\n",
       "      <th>1122</th>\n",
       "      <td>한미통화스와프 체결(600억 달러). 환율 1300 가는 줄 알았자너~</td>\n",
       "      <td>6226</td>\n",
       "      <td>False</td>\n",
       "    </tr>\n",
       "    <tr>\n",
       "      <th>1106</th>\n",
       "      <td>셀트리온 오후 3시30분 치료제 개발 간담회</td>\n",
       "      <td>6118</td>\n",
       "      <td>False</td>\n",
       "    </tr>\n",
       "    <tr>\n",
       "      <th>896</th>\n",
       "      <td>SK바이오랜드, 인수에 인수를 하면 어떻게 되는 것인가? 한 다리 건너서 SK로 다...</td>\n",
       "      <td>5044</td>\n",
       "      <td>False</td>\n",
       "    </tr>\n",
       "    <tr>\n",
       "      <th>275</th>\n",
       "      <td>메지온 3월 26일 NDA 재제출?!</td>\n",
       "      <td>5024</td>\n",
       "      <td>False</td>\n",
       "    </tr>\n",
       "    <tr>\n",
       "      <th>280</th>\n",
       "      <td>Blomberg에도 한국의 공매도전쟁이 떴다?! 타임스퀘어에 광고가?!</td>\n",
       "      <td>4897</td>\n",
       "      <td>False</td>\n",
       "    </tr>\n",
       "    <tr>\n",
       "      <th>898</th>\n",
       "      <td>SK바이오랜드 시간외 하한가 어떻게 바라볼 것인가?</td>\n",
       "      <td>4828</td>\n",
       "      <td>False</td>\n",
       "    </tr>\n",
       "    <tr>\n",
       "      <th>690</th>\n",
       "      <td>임상시험에 영향을 주는 bias와 random error</td>\n",
       "      <td>4647</td>\n",
       "      <td>False</td>\n",
       "    </tr>\n",
       "    <tr>\n",
       "      <th>852</th>\n",
       "      <td>셀트리온, 세계9위 제약회사 다케다의 아시아태평양 지역 프라이머리 케어(PC) 사업...</td>\n",
       "      <td>4617</td>\n",
       "      <td>False</td>\n",
       "    </tr>\n",
       "    <tr>\n",
       "      <th>595</th>\n",
       "      <td>넥스트사이언스 진양곤 회장 지분 추가 취득</td>\n",
       "      <td>4437</td>\n",
       "      <td>False</td>\n",
       "    </tr>\n",
       "    <tr>\n",
       "      <th>52</th>\n",
       "      <td>넥스트사이언스 매매의 정석: 우연히 저점매수 고점매도를 한 사람이 있다?!</td>\n",
       "      <td>4349</td>\n",
       "      <td>False</td>\n",
       "    </tr>\n",
       "    <tr>\n",
       "      <th>307</th>\n",
       "      <td>셀트리온, 과거 공매도 조사요청한 서회장이 도리어 조사당한 이유?!</td>\n",
       "      <td>4258</td>\n",
       "      <td>False</td>\n",
       "    </tr>\n",
       "    <tr>\n",
       "      <th>1014</th>\n",
       "      <td>내일 시장에 영향줄만한 주말뉴스모음|대북경협주북한|바이오메디톡스|JP모건자금조달과H...</td>\n",
       "      <td>4141</td>\n",
       "      <td>False</td>\n",
       "    </tr>\n",
       "    <tr>\n",
       "      <th>56</th>\n",
       "      <td>넥스트사이언스 감사보고서 적정공시 후 시원한 슈팅급등!! 나노젠의 코로나치료제를 부...</td>\n",
       "      <td>4098</td>\n",
       "      <td>False</td>\n",
       "    </tr>\n",
       "    <tr>\n",
       "      <th>266</th>\n",
       "      <td>영국 파이낸셜타임스가 한국의 공매도연장에 대해 비판하는 이유?!</td>\n",
       "      <td>3649</td>\n",
       "      <td>False</td>\n",
       "    </tr>\n",
       "    <tr>\n",
       "      <th>286</th>\n",
       "      <td>GAMESTOP(게임스톱)의 폭등에 감마스퀴즈?!</td>\n",
       "      <td>3572</td>\n",
       "      <td>False</td>\n",
       "    </tr>\n",
       "    <tr>\n",
       "      <th>306</th>\n",
       "      <td>셀트리온 27일 중앙약심 자문 결과로 사실상 허가 결정?!</td>\n",
       "      <td>3510</td>\n",
       "      <td>False</td>\n",
       "    </tr>\n",
       "  </tbody>\n",
       "</table>\n",
       "</div>"
      ],
      "text/plain": [
       "                                                  title  viewCount  에이치엘비\n",
       "1217                          대규모 유상증자를 하면 주가는 어떻게 되나요?      12919  False\n",
       "367   박셀바이오 지금까지 제가 생각하고 느껴왔던 모든 것을 말씀드립니다. 새해복 많이 받...      10036  False\n",
       "337   메지온 NDA재신청 '이르면 1분기 내'라는 표현이 왜 지연우려감이 된 것일까?! ...       7088  False\n",
       "1111                   매번 금융위기 때 등장하는 풋옵션 대박. 옵션이란 무엇일까       6627  False\n",
       "1122            한미통화스와프 체결(600억 달러). 환율 1300 가는 줄 알았자너~       6226  False\n",
       "1106                           셀트리온 오후 3시30분 치료제 개발 간담회       6118  False\n",
       "896   SK바이오랜드, 인수에 인수를 하면 어떻게 되는 것인가? 한 다리 건너서 SK로 다...       5044  False\n",
       "275                                메지온 3월 26일 NDA 재제출?!       5024  False\n",
       "280             Blomberg에도 한국의 공매도전쟁이 떴다?! 타임스퀘어에 광고가?!       4897  False\n",
       "898                        SK바이오랜드 시간외 하한가 어떻게 바라볼 것인가?       4828  False\n",
       "690                     임상시험에 영향을 주는 bias와 random error       4647  False\n",
       "852   셀트리온, 세계9위 제약회사 다케다의 아시아태평양 지역 프라이머리 케어(PC) 사업...       4617  False\n",
       "595                             넥스트사이언스 진양곤 회장 지분 추가 취득       4437  False\n",
       "52            넥스트사이언스 매매의 정석: 우연히 저점매수 고점매도를 한 사람이 있다?!       4349  False\n",
       "307               셀트리온, 과거 공매도 조사요청한 서회장이 도리어 조사당한 이유?!       4258  False\n",
       "1014  내일 시장에 영향줄만한 주말뉴스모음|대북경협주북한|바이오메디톡스|JP모건자금조달과H...       4141  False\n",
       "56    넥스트사이언스 감사보고서 적정공시 후 시원한 슈팅급등!! 나노젠의 코로나치료제를 부...       4098  False\n",
       "266                 영국 파이낸셜타임스가 한국의 공매도연장에 대해 비판하는 이유?!       3649  False\n",
       "286                         GAMESTOP(게임스톱)의 폭등에 감마스퀴즈?!       3572  False\n",
       "306                    셀트리온 27일 중앙약심 자문 결과로 사실상 허가 결정?!       3510  False"
      ]
     },
     "execution_count": 36,
     "metadata": {},
     "output_type": "execute_result"
    }
   ],
   "source": [
    "df.sort_values(by='viewCount', ascending=False)[:20]"
   ]
  },
  {
   "cell_type": "markdown",
   "metadata": {},
   "source": [
    "일정에 대한 영상이 조회수 상위에 많이 있다. \n",
    "- 메지온 1분기 내\n",
    "- 셀트리온 오후 3시 30분\n",
    "- 메지온 3월 26일\n",
    "- 셀트리온 27일 중앙약심"
   ]
  },
  {
   "cell_type": "markdown",
   "metadata": {},
   "source": [
    "# 일정을 나타내는 키워드"
   ]
  },
  {
   "cell_type": "code",
   "execution_count": 37,
   "metadata": {},
   "outputs": [],
   "source": [
    "import re\n",
    "def reg_func(word):\n",
    "    if re.compile('[0-9]+[월]|[0-9]+[일]|[0-9]+[시]|[0-9]+[분]|다음주|다음 주|다음달|다음 달|이번주|이번 주|이번달|이번 달|내일').search(word):\n",
    "        return True\n",
    "    else:\n",
    "        return False"
   ]
  },
  {
   "cell_type": "code",
   "execution_count": 38,
   "metadata": {},
   "outputs": [],
   "source": [
    "df['schedule'] = df['title'].apply(reg_func)"
   ]
  },
  {
   "cell_type": "code",
   "execution_count": 39,
   "metadata": {},
   "outputs": [
    {
     "data": {
      "text/html": [
       "<div>\n",
       "<style scoped>\n",
       "    .dataframe tbody tr th:only-of-type {\n",
       "        vertical-align: middle;\n",
       "    }\n",
       "\n",
       "    .dataframe tbody tr th {\n",
       "        vertical-align: top;\n",
       "    }\n",
       "\n",
       "    .dataframe thead th {\n",
       "        text-align: right;\n",
       "    }\n",
       "</style>\n",
       "<table border=\"1\" class=\"dataframe\">\n",
       "  <thead>\n",
       "    <tr style=\"text-align: right;\">\n",
       "      <th></th>\n",
       "      <th>title</th>\n",
       "      <th>viewCount</th>\n",
       "      <th>에이치엘비</th>\n",
       "      <th>schedule</th>\n",
       "    </tr>\n",
       "  </thead>\n",
       "  <tbody>\n",
       "    <tr>\n",
       "      <th>275</th>\n",
       "      <td>메지온 3월 26일 NDA 재제출?!</td>\n",
       "      <td>5024</td>\n",
       "      <td>False</td>\n",
       "      <td>True</td>\n",
       "    </tr>\n",
       "    <tr>\n",
       "      <th>296</th>\n",
       "      <td>셀트리온 27일 오후 2시 중앙약심 렉키로나주 결정?!</td>\n",
       "      <td>2186</td>\n",
       "      <td>False</td>\n",
       "      <td>True</td>\n",
       "    </tr>\n",
       "    <tr>\n",
       "      <th>306</th>\n",
       "      <td>셀트리온 27일 중앙약심 자문 결과로 사실상 허가 결정?!</td>\n",
       "      <td>3510</td>\n",
       "      <td>False</td>\n",
       "      <td>True</td>\n",
       "    </tr>\n",
       "    <tr>\n",
       "      <th>337</th>\n",
       "      <td>메지온 NDA재신청 '이르면 1분기 내'라는 표현이 왜 지연우려감이 된 것일까?! ...</td>\n",
       "      <td>7088</td>\n",
       "      <td>False</td>\n",
       "      <td>True</td>\n",
       "    </tr>\n",
       "    <tr>\n",
       "      <th>359</th>\n",
       "      <td>셀트리온 13일에 임상 2상 결과 조기발표?!</td>\n",
       "      <td>1140</td>\n",
       "      <td>False</td>\n",
       "      <td>True</td>\n",
       "    </tr>\n",
       "  </tbody>\n",
       "</table>\n",
       "</div>"
      ],
      "text/plain": [
       "                                                 title  viewCount  에이치엘비  \\\n",
       "275                               메지온 3월 26일 NDA 재제출?!       5024  False   \n",
       "296                     셀트리온 27일 오후 2시 중앙약심 렉키로나주 결정?!       2186  False   \n",
       "306                   셀트리온 27일 중앙약심 자문 결과로 사실상 허가 결정?!       3510  False   \n",
       "337  메지온 NDA재신청 '이르면 1분기 내'라는 표현이 왜 지연우려감이 된 것일까?! ...       7088  False   \n",
       "359                          셀트리온 13일에 임상 2상 결과 조기발표?!       1140  False   \n",
       "\n",
       "     schedule  \n",
       "275      True  \n",
       "296      True  \n",
       "306      True  \n",
       "337      True  \n",
       "359      True  "
      ]
     },
     "execution_count": 39,
     "metadata": {},
     "output_type": "execute_result"
    }
   ],
   "source": [
    "df.loc[(df['schedule'] == True)].head()"
   ]
  },
  {
   "cell_type": "markdown",
   "metadata": {},
   "source": [
    "# 조회수 평균 구하기"
   ]
  },
  {
   "cell_type": "code",
   "execution_count": 40,
   "metadata": {},
   "outputs": [
    {
     "data": {
      "text/plain": [
       "schedule\n",
       "False    168\n",
       "True      16\n",
       "Name: viewCount, dtype: int64"
      ]
     },
     "execution_count": 40,
     "metadata": {},
     "output_type": "execute_result"
    }
   ],
   "source": [
    "df.groupby('schedule').viewCount.size()"
   ]
  },
  {
   "cell_type": "code",
   "execution_count": 41,
   "metadata": {},
   "outputs": [
    {
     "data": {
      "text/plain": [
       "schedule\n",
       "False    1471.642857\n",
       "True     2467.062500\n",
       "Name: viewCount, dtype: float64"
      ]
     },
     "execution_count": 41,
     "metadata": {},
     "output_type": "execute_result"
    }
   ],
   "source": [
    "df.groupby('schedule').viewCount.mean()"
   ]
  },
  {
   "cell_type": "markdown",
   "metadata": {},
   "source": [
    "# t-test하기"
   ]
  },
  {
   "cell_type": "code",
   "execution_count": 42,
   "metadata": {},
   "outputs": [],
   "source": [
    "from scipy.stats import ttest_ind\n",
    "schedule = df.loc[df['schedule'] == True].viewCount\n",
    "non_schedule = df.loc[df['schedule'] == False].viewCount"
   ]
  },
  {
   "cell_type": "code",
   "execution_count": 43,
   "metadata": {},
   "outputs": [
    {
     "data": {
      "text/plain": [
       "16"
      ]
     },
     "execution_count": 43,
     "metadata": {},
     "output_type": "execute_result"
    }
   ],
   "source": [
    "len(schedule)"
   ]
  },
  {
   "cell_type": "code",
   "execution_count": 44,
   "metadata": {},
   "outputs": [
    {
     "data": {
      "text/plain": [
       "168"
      ]
     },
     "execution_count": 44,
     "metadata": {},
     "output_type": "execute_result"
    }
   ],
   "source": [
    "len(non_schedule)"
   ]
  },
  {
   "cell_type": "code",
   "execution_count": 45,
   "metadata": {},
   "outputs": [
    {
     "data": {
      "text/plain": [
       "Ttest_indResult(statistic=2.2143900773848832, pvalue=0.02804360446106258)"
      ]
     },
     "execution_count": 45,
     "metadata": {},
     "output_type": "execute_result"
    }
   ],
   "source": [
    "ttest_ind(schedule, non_schedule)"
   ]
  },
  {
   "cell_type": "markdown",
   "metadata": {},
   "source": [
    "# barchart"
   ]
  },
  {
   "cell_type": "code",
   "execution_count": 46,
   "metadata": {},
   "outputs": [
    {
     "data": {
      "image/png": "[encoded data removed]",
      "text/plain": [
       "<Figure size 432x288 with 1 Axes>"
      ]
     },
     "metadata": {
      "needs_background": "light"
     },
     "output_type": "display_data"
    }
   ],
   "source": [
    "import matplotlib.pyplot as plt\n",
    "%matplotlib inline\n",
    "\n",
    "plt.boxplot([schedule, non_schedule])\n",
    "plt.xlabel('schedule')\n",
    "plt.ylabel('viewCount')\n",
    "plt.title('Box Plot')\n",
    "plt.grid()\n",
    "plt.show()"
   ]
  },
  {
   "cell_type": "markdown",
   "metadata": {},
   "source": [
    "# Results\n",
    "제목에 '에이치엘비'가 없는 영상 중에서  \n",
    "'일정' 키워드가 있는 영상의 평균 조회수는 2,467회  \n",
    "'일정' 키워드가 없는 영상의 평균 조회수는 1,471회  \n",
    "(p=0.028)"
   ]
  },
  {
   "cell_type": "markdown",
   "metadata": {},
   "source": [
    "# Conclusion\n",
    "제목에 '에이치엘비'가 없으면 '일정' 키워드가 있는 영상을 업로드한다."
   ]
  }
 ],
 "metadata": {
  "kernelspec": {
   "display_name": "Python 3",
   "language": "python",
   "name": "python3"
  },
  "language_info": {
   "codemirror_mode": {
    "name": "ipython",
    "version": 3
   },
   "file_extension": ".py",
   "mimetype": "text/x-python",
   "name": "python",
   "nbconvert_exporter": "python",
   "pygments_lexer": "ipython3",
   "version": "3.7.3"
  }
 },
 "nbformat": 4,
 "nbformat_minor": 2
}
