{
 "cells": [
  {
   "cell_type": "code",
   "execution_count": null,
   "metadata": {},
   "outputs": [],
   "source": [
    "# https://dgkim5360.tistory.com/entry/python-requests\n",
    "import requests\n",
    "URL = 'https://youtube.googleapis.com/youtube/v3/videos'\n",
    "params = {'part':'snippet','id':'MQcPC31KRqA', 'key':'API key'}\n",
    "res = requests.get(URL, params=params)\n",
    "json = res.json()\n",
    "# https://stackoverflow.com/questions/40827356/find-a-value-in-json-using-python/40827383\n",
    "tags = json['items'][0]['snippet']['tags']"
   ]
  },
  {
   "cell_type": "code",
   "execution_count": null,
   "metadata": {},
   "outputs": [],
   "source": [
    "import requests\n",
    "URL = 'https://youtube.googleapis.com/youtube/v3/videos'\n",
    "params = {'part':'statistics','id':'MQcPC31KRqA', 'key':'API key'}\n",
    "res = requests.get(URL, params=params)\n",
    "json = res.json()\n",
    "viewCount = json['items'][0]['statistics']['viewCount']\n",
    "likeCount = json['items'][0]['statistics']['likeCount']\n",
    "commentCount = json['items'][0]['statistics']['commentCount']"
   ]
  },
  {
   "cell_type": "code",
   "execution_count": null,
   "metadata": {},
   "outputs": [],
   "source": []
  },
  {
   "cell_type": "code",
   "execution_count": null,
   "metadata": {},
   "outputs": [],
   "source": []
  },
  {
   "cell_type": "code",
   "execution_count": null,
   "metadata": {},
   "outputs": [],
   "source": []
  },
  {
   "cell_type": "code",
   "execution_count": null,
   "metadata": {},
   "outputs": [],
   "source": []
  },
  {
   "cell_type": "code",
   "execution_count": null,
   "metadata": {},
   "outputs": [],
   "source": []
  }
 ],
 "metadata": {
  "kernelspec": {
   "display_name": "Python 3",
   "language": "python",
   "name": "python3"
  },
  "language_info": {
   "codemirror_mode": {
    "name": "ipython",
    "version": 3
   },
   "file_extension": ".py",
   "mimetype": "text/x-python",
   "name": "python",
   "nbconvert_exporter": "python",
   "pygments_lexer": "ipython3",
   "version": "3.7.3"
  }
 },
 "nbformat": 4,
 "nbformat_minor": 2
}
