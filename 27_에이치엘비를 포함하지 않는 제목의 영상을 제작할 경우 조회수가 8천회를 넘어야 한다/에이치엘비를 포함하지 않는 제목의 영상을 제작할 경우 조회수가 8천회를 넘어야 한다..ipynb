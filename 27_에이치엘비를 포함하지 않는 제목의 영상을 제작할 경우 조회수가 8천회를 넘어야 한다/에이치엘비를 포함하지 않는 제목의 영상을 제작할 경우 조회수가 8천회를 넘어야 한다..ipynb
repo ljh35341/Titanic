{
 "cells": [
  {
   "cell_type": "code",
   "execution_count": 1,
   "metadata": {},
   "outputs": [],
   "source": [
    "api_key = \"\"\n",
    "channel_id = \"\""
   ]
  },
  {
   "cell_type": "code",
   "execution_count": 2,
   "metadata": {},
   "outputs": [],
   "source": [
    "from googleapiclient.discovery import build\n",
    "youtube = build(\"youtube\", \"v3\", developerKey=api_key)"
   ]
  },
  {
   "cell_type": "code",
   "execution_count": 3,
   "metadata": {},
   "outputs": [],
   "source": [
    "def get_channel_videos(channel_id):\n",
    "    res = youtube.channels().list(id=channel_id,\n",
    "                                 part=\"contentDetails\").execute()\n",
    "    playlist_id = res[\"items\"][0][\"contentDetails\"][\"relatedPlaylists\"][\"uploads\"]\n",
    "    \n",
    "    videos = []\n",
    "    next_page_token = None\n",
    "    \n",
    "    while 1:\n",
    "        res = youtube.playlistItems().list(playlistId=playlist_id,\n",
    "                                          part=\"snippet\",\n",
    "                                          maxResults=50,\n",
    "                                          pageToken=next_page_token).execute()\n",
    "        videos += res[\"items\"]\n",
    "        next_page_token = res.get(\"nextPageToken\")\n",
    "        \n",
    "        if next_page_token is None:\n",
    "            break\n",
    "    \n",
    "    return videos"
   ]
  },
  {
   "cell_type": "code",
   "execution_count": 4,
   "metadata": {},
   "outputs": [],
   "source": [
    "videos = get_channel_videos(channel_id)"
   ]
  },
  {
   "cell_type": "code",
   "execution_count": 5,
   "metadata": {},
   "outputs": [],
   "source": [
    "res = youtube.videos().list(id=videos[0][\"snippet\"][\"resourceId\"][\"videoId\"],\n",
    "                           part=\"statistics\").execute()"
   ]
  },
  {
   "cell_type": "code",
   "execution_count": 6,
   "metadata": {},
   "outputs": [],
   "source": [
    "video_ids = list(map(lambda x:x['snippet']['resourceId']['videoId'], videos))"
   ]
  },
  {
   "cell_type": "code",
   "execution_count": 7,
   "metadata": {},
   "outputs": [],
   "source": [
    "def get_videos_stats(video_ids):\n",
    "    stats = []\n",
    "    for i in range(0, len(video_ids), 50):\n",
    "        res = youtube.videos().list(id=','.join(video_ids[i:i+50]),\n",
    "                                   part='statistics').execute()\n",
    "        stats += res['items']\n",
    "    return stats"
   ]
  },
  {
   "cell_type": "code",
   "execution_count": 8,
   "metadata": {},
   "outputs": [],
   "source": [
    "stats = get_videos_stats(video_ids)"
   ]
  },
  {
   "cell_type": "code",
   "execution_count": 65,
   "metadata": {},
   "outputs": [],
   "source": [
    "publishedAt = []\n",
    "title = []\n",
    "viewCount = []\n",
    "for i in range(len(videos)):\n",
    "    publishedAt.append(videos[i]['snippet']['publishedAt'])\n",
    "    title.append(videos[i]['snippet']['title'])\n",
    "    viewCount.append(stats[i]['statistics']['viewCount'])"
   ]
  },
  {
   "cell_type": "code",
   "execution_count": 66,
   "metadata": {},
   "outputs": [],
   "source": [
    "dict = {}\n",
    "dict[\"publishedAt\"] = publishedAt\n",
    "dict[\"title\"] = title\n",
    "dict[\"viewCount\"] = viewCount"
   ]
  },
  {
   "cell_type": "code",
   "execution_count": 67,
   "metadata": {},
   "outputs": [],
   "source": [
    "import pandas as pd\n",
    "df = pd.DataFrame.from_dict(dict)"
   ]
  },
  {
   "cell_type": "code",
   "execution_count": 104,
   "metadata": {},
   "outputs": [],
   "source": [
    "df['viewCount'] = df['viewCount'].astype(int)"
   ]
  },
  {
   "cell_type": "code",
   "execution_count": 105,
   "metadata": {
    "scrolled": true
   },
   "outputs": [
    {
     "data": {
      "text/plain": [
       "numpy.int32"
      ]
     },
     "execution_count": 105,
     "metadata": {},
     "output_type": "execute_result"
    }
   ],
   "source": [
    "type(df['viewCount'][0])"
   ]
  },
  {
   "cell_type": "code",
   "execution_count": 106,
   "metadata": {},
   "outputs": [
    {
     "data": {
      "text/html": [
       "<div>\n",
       "<style scoped>\n",
       "    .dataframe tbody tr th:only-of-type {\n",
       "        vertical-align: middle;\n",
       "    }\n",
       "\n",
       "    .dataframe tbody tr th {\n",
       "        vertical-align: top;\n",
       "    }\n",
       "\n",
       "    .dataframe thead th {\n",
       "        text-align: right;\n",
       "    }\n",
       "</style>\n",
       "<table border=\"1\" class=\"dataframe\">\n",
       "  <thead>\n",
       "    <tr style=\"text-align: right;\">\n",
       "      <th></th>\n",
       "      <th>publishedAt</th>\n",
       "      <th>title</th>\n",
       "      <th>viewCount</th>\n",
       "    </tr>\n",
       "  </thead>\n",
       "  <tbody>\n",
       "    <tr>\n",
       "      <th>0</th>\n",
       "      <td>2021-04-08T08:00:09Z</td>\n",
       "      <td>에이치엘비 CAR-T 상업화 최소 3년이상 앞당길 수 있다!! CAR-T세포가 활성...</td>\n",
       "      <td>1928</td>\n",
       "    </tr>\n",
       "    <tr>\n",
       "      <th>1</th>\n",
       "      <td>2021-04-08T01:34:11Z</td>\n",
       "      <td>에이치엘비 주주 오세훈 서울시장 당선!!</td>\n",
       "      <td>3779</td>\n",
       "    </tr>\n",
       "    <tr>\n",
       "      <th>2</th>\n",
       "      <td>2021-04-07T21:00:15Z</td>\n",
       "      <td>에이치엘비 진양곤 회장은 코르키로부터 확보했던 넥스트사이언스의 메자닌에 대한 콜옵션...</td>\n",
       "      <td>6545</td>\n",
       "    </tr>\n",
       "    <tr>\n",
       "      <th>3</th>\n",
       "      <td>2021-04-07T08:15:01Z</td>\n",
       "      <td>에이치엘비 증선위 뉴스기사가 없는 것으로 보아 열리지 않고 무기한 연기 가능성!!</td>\n",
       "      <td>7487</td>\n",
       "    </tr>\n",
       "    <tr>\n",
       "      <th>4</th>\n",
       "      <td>2021-04-07T03:00:11Z</td>\n",
       "      <td>에이치엘비가 뛰어든 CAR-T치료제의 부작용은 노바티스와 길리어드사이언스에서도 보이...</td>\n",
       "      <td>3160</td>\n",
       "    </tr>\n",
       "  </tbody>\n",
       "</table>\n",
       "</div>"
      ],
      "text/plain": [
       "            publishedAt                                              title  \\\n",
       "0  2021-04-08T08:00:09Z  에이치엘비 CAR-T 상업화 최소 3년이상 앞당길 수 있다!! CAR-T세포가 활성...   \n",
       "1  2021-04-08T01:34:11Z                             에이치엘비 주주 오세훈 서울시장 당선!!   \n",
       "2  2021-04-07T21:00:15Z  에이치엘비 진양곤 회장은 코르키로부터 확보했던 넥스트사이언스의 메자닌에 대한 콜옵션...   \n",
       "3  2021-04-07T08:15:01Z      에이치엘비 증선위 뉴스기사가 없는 것으로 보아 열리지 않고 무기한 연기 가능성!!   \n",
       "4  2021-04-07T03:00:11Z  에이치엘비가 뛰어든 CAR-T치료제의 부작용은 노바티스와 길리어드사이언스에서도 보이...   \n",
       "\n",
       "   viewCount  \n",
       "0       1928  \n",
       "1       3779  \n",
       "2       6545  \n",
       "3       7487  \n",
       "4       3160  "
      ]
     },
     "execution_count": 106,
     "metadata": {},
     "output_type": "execute_result"
    }
   ],
   "source": [
    "df.head()"
   ]
  },
  {
   "cell_type": "markdown",
   "metadata": {},
   "source": [
    "# 에이치엘비를 포함하지 않는 제목의 특징"
   ]
  },
  {
   "cell_type": "code",
   "execution_count": 107,
   "metadata": {},
   "outputs": [],
   "source": [
    "df_copy = df.copy()"
   ]
  },
  {
   "cell_type": "code",
   "execution_count": 108,
   "metadata": {},
   "outputs": [],
   "source": [
    "# https://ponyozzang.tistory.com/622\n",
    "df_copy['hlb'] = df_copy['title'].str.contains('에이치엘비')"
   ]
  },
  {
   "cell_type": "code",
   "execution_count": 109,
   "metadata": {},
   "outputs": [
    {
     "data": {
      "text/html": [
       "<div>\n",
       "<style scoped>\n",
       "    .dataframe tbody tr th:only-of-type {\n",
       "        vertical-align: middle;\n",
       "    }\n",
       "\n",
       "    .dataframe tbody tr th {\n",
       "        vertical-align: top;\n",
       "    }\n",
       "\n",
       "    .dataframe thead th {\n",
       "        text-align: right;\n",
       "    }\n",
       "</style>\n",
       "<table border=\"1\" class=\"dataframe\">\n",
       "  <thead>\n",
       "    <tr style=\"text-align: right;\">\n",
       "      <th></th>\n",
       "      <th>publishedAt</th>\n",
       "      <th>title</th>\n",
       "      <th>viewCount</th>\n",
       "      <th>hlb</th>\n",
       "    </tr>\n",
       "  </thead>\n",
       "  <tbody>\n",
       "    <tr>\n",
       "      <th>2586</th>\n",
       "      <td>2018-10-05T02:22:45Z</td>\n",
       "      <td>빅토리의5번째주식단타매매영상</td>\n",
       "      <td>47</td>\n",
       "      <td>False</td>\n",
       "    </tr>\n",
       "    <tr>\n",
       "      <th>2587</th>\n",
       "      <td>2018-10-04T15:50:27Z</td>\n",
       "      <td>빅토리의4번째주식단타매매영상</td>\n",
       "      <td>53</td>\n",
       "      <td>False</td>\n",
       "    </tr>\n",
       "    <tr>\n",
       "      <th>2588</th>\n",
       "      <td>2018-10-04T11:02:07Z</td>\n",
       "      <td>빅토리의3번째주식단타매매영상</td>\n",
       "      <td>18</td>\n",
       "      <td>False</td>\n",
       "    </tr>\n",
       "    <tr>\n",
       "      <th>2589</th>\n",
       "      <td>2018-10-04T10:45:30Z</td>\n",
       "      <td>빅토리의2번째주식단타매매영상</td>\n",
       "      <td>97</td>\n",
       "      <td>False</td>\n",
       "    </tr>\n",
       "    <tr>\n",
       "      <th>2590</th>\n",
       "      <td>2018-10-04T10:04:42Z</td>\n",
       "      <td>빅토리의1번째주식단타매매영상</td>\n",
       "      <td>277</td>\n",
       "      <td>False</td>\n",
       "    </tr>\n",
       "  </tbody>\n",
       "</table>\n",
       "</div>"
      ],
      "text/plain": [
       "               publishedAt            title  viewCount    hlb\n",
       "2586  2018-10-05T02:22:45Z  빅토리의5번째주식단타매매영상         47  False\n",
       "2587  2018-10-04T15:50:27Z  빅토리의4번째주식단타매매영상         53  False\n",
       "2588  2018-10-04T11:02:07Z  빅토리의3번째주식단타매매영상         18  False\n",
       "2589  2018-10-04T10:45:30Z  빅토리의2번째주식단타매매영상         97  False\n",
       "2590  2018-10-04T10:04:42Z  빅토리의1번째주식단타매매영상        277  False"
      ]
     },
     "execution_count": 109,
     "metadata": {},
     "output_type": "execute_result"
    }
   ],
   "source": [
    "df_copy.tail()"
   ]
  },
  {
   "cell_type": "code",
   "execution_count": 110,
   "metadata": {},
   "outputs": [
    {
     "data": {
      "text/plain": [
       "hlb\n",
       "False     592.218150\n",
       "True     5859.741869\n",
       "Name: viewCount, dtype: float64"
      ]
     },
     "execution_count": 110,
     "metadata": {},
     "output_type": "execute_result"
    }
   ],
   "source": [
    "df_copy.groupby('hlb').viewCount.mean()"
   ]
  },
  {
   "cell_type": "code",
   "execution_count": 111,
   "metadata": {},
   "outputs": [
    {
     "data": {
      "text/plain": [
       "hlb\n",
       "False    1165.081253\n",
       "True     4550.089526\n",
       "Name: viewCount, dtype: float64"
      ]
     },
     "execution_count": 111,
     "metadata": {},
     "output_type": "execute_result"
    }
   ],
   "source": [
    "df_copy.groupby('hlb').viewCount.std()"
   ]
  },
  {
   "cell_type": "code",
   "execution_count": 120,
   "metadata": {},
   "outputs": [],
   "source": [
    "# https://stackoverflow.com/questions/17071871/how-to-select-rows-from-a-dataframe-based-on-column-values\n",
    "df_nothlb = df_copy.loc[(df_copy['hlb'] == False)]"
   ]
  },
  {
   "cell_type": "code",
   "execution_count": 121,
   "metadata": {
    "scrolled": true
   },
   "outputs": [
    {
     "data": {
      "text/html": [
       "<div>\n",
       "<style scoped>\n",
       "    .dataframe tbody tr th:only-of-type {\n",
       "        vertical-align: middle;\n",
       "    }\n",
       "\n",
       "    .dataframe tbody tr th {\n",
       "        vertical-align: top;\n",
       "    }\n",
       "\n",
       "    .dataframe thead th {\n",
       "        text-align: right;\n",
       "    }\n",
       "</style>\n",
       "<table border=\"1\" class=\"dataframe\">\n",
       "  <thead>\n",
       "    <tr style=\"text-align: right;\">\n",
       "      <th></th>\n",
       "      <th>publishedAt</th>\n",
       "      <th>title</th>\n",
       "      <th>viewCount</th>\n",
       "      <th>hlb</th>\n",
       "    </tr>\n",
       "  </thead>\n",
       "  <tbody>\n",
       "    <tr>\n",
       "      <th>27</th>\n",
       "      <td>2021-03-31T09:01:52Z</td>\n",
       "      <td>넥스트사이언스 매매의 정석: 우연히 저점매수 고점매도를 한 사람이 있다?!</td>\n",
       "      <td>4307</td>\n",
       "      <td>False</td>\n",
       "    </tr>\n",
       "    <tr>\n",
       "      <th>31</th>\n",
       "      <td>2021-03-30T07:58:58Z</td>\n",
       "      <td>넥스트사이언스 감사보고서 적정공시 후 시원한 슈팅급등!! 나노젠의 코로나치료제를 부...</td>\n",
       "      <td>4067</td>\n",
       "      <td>False</td>\n",
       "    </tr>\n",
       "    <tr>\n",
       "      <th>76</th>\n",
       "      <td>2021-03-17T08:46:19Z</td>\n",
       "      <td>넥스트사이언스 아임얼라이브 콤부차 국제 단체 KBI 등록, 프리바이오틱스 풍부</td>\n",
       "      <td>4335</td>\n",
       "      <td>False</td>\n",
       "    </tr>\n",
       "    <tr>\n",
       "      <th>226</th>\n",
       "      <td>2021-02-11T06:44:13Z</td>\n",
       "      <td>메지온 P-Value가 변동된 이유는 무엇일까?</td>\n",
       "      <td>841</td>\n",
       "      <td>False</td>\n",
       "    </tr>\n",
       "    <tr>\n",
       "      <th>229</th>\n",
       "      <td>2021-02-09T04:09:56Z</td>\n",
       "      <td>옵티머스 뒤에 모피아가 있었다?! 하나은행은 왜 느슨했을까</td>\n",
       "      <td>1935</td>\n",
       "      <td>False</td>\n",
       "    </tr>\n",
       "  </tbody>\n",
       "</table>\n",
       "</div>"
      ],
      "text/plain": [
       "              publishedAt                                              title  \\\n",
       "27   2021-03-31T09:01:52Z          넥스트사이언스 매매의 정석: 우연히 저점매수 고점매도를 한 사람이 있다?!   \n",
       "31   2021-03-30T07:58:58Z  넥스트사이언스 감사보고서 적정공시 후 시원한 슈팅급등!! 나노젠의 코로나치료제를 부...   \n",
       "76   2021-03-17T08:46:19Z        넥스트사이언스 아임얼라이브 콤부차 국제 단체 KBI 등록, 프리바이오틱스 풍부   \n",
       "226  2021-02-11T06:44:13Z                         메지온 P-Value가 변동된 이유는 무엇일까?   \n",
       "229  2021-02-09T04:09:56Z                   옵티머스 뒤에 모피아가 있었다?! 하나은행은 왜 느슨했을까   \n",
       "\n",
       "     viewCount    hlb  \n",
       "27        4307  False  \n",
       "31        4067  False  \n",
       "76        4335  False  \n",
       "226        841  False  \n",
       "229       1935  False  "
      ]
     },
     "execution_count": 121,
     "metadata": {},
     "output_type": "execute_result"
    }
   ],
   "source": [
    "df_nothlb.head()"
   ]
  },
  {
   "cell_type": "code",
   "execution_count": 122,
   "metadata": {},
   "outputs": [
    {
     "data": {
      "text/plain": [
       "1146"
      ]
     },
     "execution_count": 122,
     "metadata": {},
     "output_type": "execute_result"
    }
   ],
   "source": [
    "len(df_nothlb)"
   ]
  },
  {
   "cell_type": "markdown",
   "metadata": {},
   "source": [
    "# 조회수 많은 순으로 정렬한다."
   ]
  },
  {
   "cell_type": "code",
   "execution_count": 136,
   "metadata": {},
   "outputs": [],
   "source": [
    "df_nothlb = df_nothlb.sort_values(by='viewCount', ascending=False)"
   ]
  },
  {
   "cell_type": "markdown",
   "metadata": {},
   "source": [
    "# show all"
   ]
  },
  {
   "cell_type": "code",
   "execution_count": 137,
   "metadata": {},
   "outputs": [],
   "source": [
    "# https://dev.to/chanduthedev/how-to-display-all-rows-from-data-frame-using-pandas-dha\n",
    "pd.set_option('display.max_rows', 1200)"
   ]
  },
  {
   "cell_type": "code",
   "execution_count": 138,
   "metadata": {
    "scrolled": false
   },
   "outputs": [
    {
     "data": {
      "text/html": [
       "<div>\n",
       "<style scoped>\n",
       "    .dataframe tbody tr th:only-of-type {\n",
       "        vertical-align: middle;\n",
       "    }\n",
       "\n",
       "    .dataframe tbody tr th {\n",
       "        vertical-align: top;\n",
       "    }\n",
       "\n",
       "    .dataframe thead th {\n",
       "        text-align: right;\n",
       "    }\n",
       "</style>\n",
       "<table border=\"1\" class=\"dataframe\">\n",
       "  <thead>\n",
       "    <tr style=\"text-align: right;\">\n",
       "      <th></th>\n",
       "      <th>publishedAt</th>\n",
       "      <th>title</th>\n",
       "      <th>viewCount</th>\n",
       "      <th>hlb</th>\n",
       "    </tr>\n",
       "  </thead>\n",
       "  <tbody>\n",
       "    <tr>\n",
       "      <th>1192</th>\n",
       "      <td>2020-03-05T04:54:29Z</td>\n",
       "      <td>대규모 유상증자를 하면 주가는 어떻게 되나요?</td>\n",
       "      <td>12896</td>\n",
       "      <td>False</td>\n",
       "    </tr>\n",
       "    <tr>\n",
       "      <th>1831</th>\n",
       "      <td>2019-08-18T10:41:53Z</td>\n",
       "      <td>단일가매매 이후 주가는 어떻게 되는가? | 단기과열종목(램테크놀러지, 일지테크, 미...</td>\n",
       "      <td>11024</td>\n",
       "      <td>False</td>\n",
       "    </tr>\n",
       "    <tr>\n",
       "      <th>1450</th>\n",
       "      <td>2019-12-21T15:52:21Z</td>\n",
       "      <td>26일 신규상장하는 천랩의 2대주주가 라이프리버라고?!</td>\n",
       "      <td>10168</td>\n",
       "      <td>False</td>\n",
       "    </tr>\n",
       "    <tr>\n",
       "      <th>342</th>\n",
       "      <td>2020-12-31T07:07:59Z</td>\n",
       "      <td>박셀바이오 지금까지 제가 생각하고 느껴왔던 모든 것을 말씀드립니다. 새해복 많이 받...</td>\n",
       "      <td>10031</td>\n",
       "      <td>False</td>\n",
       "    </tr>\n",
       "    <tr>\n",
       "      <th>1569</th>\n",
       "      <td>2019-10-26T02:54:00Z</td>\n",
       "      <td>키움실투대회 돌파매매는 손절이 중요하다. 아무리봐도 마하세븐님같은데 2019-10-...</td>\n",
       "      <td>9533</td>\n",
       "      <td>False</td>\n",
       "    </tr>\n",
       "  </tbody>\n",
       "</table>\n",
       "</div>"
      ],
      "text/plain": [
       "               publishedAt                                              title  \\\n",
       "1192  2020-03-05T04:54:29Z                          대규모 유상증자를 하면 주가는 어떻게 되나요?   \n",
       "1831  2019-08-18T10:41:53Z  단일가매매 이후 주가는 어떻게 되는가? | 단기과열종목(램테크놀러지, 일지테크, 미...   \n",
       "1450  2019-12-21T15:52:21Z                     26일 신규상장하는 천랩의 2대주주가 라이프리버라고?!   \n",
       "342   2020-12-31T07:07:59Z  박셀바이오 지금까지 제가 생각하고 느껴왔던 모든 것을 말씀드립니다. 새해복 많이 받...   \n",
       "1569  2019-10-26T02:54:00Z  키움실투대회 돌파매매는 손절이 중요하다. 아무리봐도 마하세븐님같은데 2019-10-...   \n",
       "\n",
       "      viewCount    hlb  \n",
       "1192      12896  False  \n",
       "1831      11024  False  \n",
       "1450      10168  False  \n",
       "342       10031  False  \n",
       "1569       9533  False  "
      ]
     },
     "execution_count": 138,
     "metadata": {},
     "output_type": "execute_result"
    }
   ],
   "source": [
    "df_nothlb[:5]"
   ]
  },
  {
   "cell_type": "markdown",
   "metadata": {},
   "source": [
    "# to_csv\n",
    "참고 링크 : https://dolhani.tistory.com/521  \n",
    "dataframe을 엑셀로 저장하면 '한글 깨짐' 현상이 나타난다. 'utf-8'이 아닌 'utf-8-sig'로 인코딩하면 해결된다."
   ]
  },
  {
   "cell_type": "code",
   "execution_count": 139,
   "metadata": {},
   "outputs": [],
   "source": [
    "df_nothlb.to_csv('nothlb.csv', encoding='utf-8-sig')"
   ]
  },
  {
   "cell_type": "markdown",
   "metadata": {},
   "source": [
    "# Results\n",
    "  손익분기점 수익을 넘기는 조회수를 비교해보았다. 분석자료는 해당 엑셀파일에 첨부되어 있다. 조회수가 최소 8천회가 넘어야 손익분기점을 넘긴다."
   ]
  },
  {
   "cell_type": "markdown",
   "metadata": {},
   "source": [
    "# Conclusion\n",
    "새로운 영상을 제작할 경우 조회수가 8천회를 넘는지를 기준으로 의사결정한다."
   ]
  }
 ],
 "metadata": {
  "kernelspec": {
   "display_name": "Python 3",
   "language": "python",
   "name": "python3"
  },
  "language_info": {
   "codemirror_mode": {
    "name": "ipython",
    "version": 3
   },
   "file_extension": ".py",
   "mimetype": "text/x-python",
   "name": "python",
   "nbconvert_exporter": "python",
   "pygments_lexer": "ipython3",
   "version": "3.7.3"
  }
 },
 "nbformat": 4,
 "nbformat_minor": 2
}
