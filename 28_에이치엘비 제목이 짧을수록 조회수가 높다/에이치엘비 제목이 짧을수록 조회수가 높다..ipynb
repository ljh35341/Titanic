{
 "cells": [
  {
   "cell_type": "code",
   "execution_count": 1,
   "metadata": {},
   "outputs": [],
   "source": [
    "api_key = \"\"\n",
    "channel_id = \"\""
   ]
  },
  {
   "cell_type": "code",
   "execution_count": 2,
   "metadata": {},
   "outputs": [],
   "source": [
    "from googleapiclient.discovery import build\n",
    "youtube = build(\"youtube\", \"v3\", developerKey=api_key)"
   ]
  },
  {
   "cell_type": "code",
   "execution_count": 3,
   "metadata": {},
   "outputs": [],
   "source": [
    "def get_channel_videos(channel_id):\n",
    "    res = youtube.channels().list(id=channel_id,\n",
    "                                 part=\"contentDetails\").execute()\n",
    "    playlist_id = res[\"items\"][0][\"contentDetails\"][\"relatedPlaylists\"][\"uploads\"]\n",
    "    \n",
    "    videos = []\n",
    "    next_page_token = None\n",
    "    \n",
    "    while 1:\n",
    "        res = youtube.playlistItems().list(playlistId=playlist_id,\n",
    "                                          part=\"snippet\",\n",
    "                                          maxResults=50,\n",
    "                                          pageToken=next_page_token).execute()\n",
    "        videos += res[\"items\"]\n",
    "        next_page_token = res.get(\"nextPageToken\")\n",
    "        \n",
    "        if next_page_token is None:\n",
    "            break\n",
    "    \n",
    "    return videos"
   ]
  },
  {
   "cell_type": "code",
   "execution_count": 4,
   "metadata": {},
   "outputs": [],
   "source": [
    "videos = get_channel_videos(channel_id)"
   ]
  },
  {
   "cell_type": "code",
   "execution_count": 5,
   "metadata": {},
   "outputs": [],
   "source": [
    "res = youtube.videos().list(id=videos[0][\"snippet\"][\"resourceId\"][\"videoId\"],\n",
    "                           part=\"statistics\").execute()"
   ]
  },
  {
   "cell_type": "code",
   "execution_count": 6,
   "metadata": {},
   "outputs": [],
   "source": [
    "video_ids = list(map(lambda x:x['snippet']['resourceId']['videoId'], videos))"
   ]
  },
  {
   "cell_type": "code",
   "execution_count": 7,
   "metadata": {},
   "outputs": [],
   "source": [
    "def get_videos_stats(video_ids):\n",
    "    stats = []\n",
    "    for i in range(0, len(video_ids), 50):\n",
    "        res = youtube.videos().list(id=','.join(video_ids[i:i+50]),\n",
    "                                   part='statistics').execute()\n",
    "        stats += res['items']\n",
    "    return stats"
   ]
  },
  {
   "cell_type": "code",
   "execution_count": 8,
   "metadata": {},
   "outputs": [],
   "source": [
    "stats = get_videos_stats(video_ids)"
   ]
  },
  {
   "cell_type": "code",
   "execution_count": 9,
   "metadata": {},
   "outputs": [],
   "source": [
    "publishedAt = []\n",
    "title = []\n",
    "viewCount = []\n",
    "for i in range(len(videos)):\n",
    "    publishedAt.append(videos[i]['snippet']['publishedAt'])\n",
    "    title.append(videos[i]['snippet']['title'])\n",
    "    viewCount.append(stats[i]['statistics']['viewCount'])"
   ]
  },
  {
   "cell_type": "code",
   "execution_count": 10,
   "metadata": {},
   "outputs": [],
   "source": [
    "dict = {}\n",
    "dict[\"publishedAt\"] = publishedAt\n",
    "dict[\"title\"] = title\n",
    "dict[\"viewCount\"] = viewCount"
   ]
  },
  {
   "cell_type": "code",
   "execution_count": 11,
   "metadata": {},
   "outputs": [],
   "source": [
    "import pandas as pd\n",
    "df = pd.DataFrame.from_dict(dict)"
   ]
  },
  {
   "cell_type": "code",
   "execution_count": 12,
   "metadata": {},
   "outputs": [],
   "source": [
    "df['viewCount'] = df['viewCount'].astype(int)"
   ]
  },
  {
   "cell_type": "code",
   "execution_count": 13,
   "metadata": {},
   "outputs": [
    {
     "data": {
      "text/html": [
       "<div>\n",
       "<style scoped>\n",
       "    .dataframe tbody tr th:only-of-type {\n",
       "        vertical-align: middle;\n",
       "    }\n",
       "\n",
       "    .dataframe tbody tr th {\n",
       "        vertical-align: top;\n",
       "    }\n",
       "\n",
       "    .dataframe thead th {\n",
       "        text-align: right;\n",
       "    }\n",
       "</style>\n",
       "<table border=\"1\" class=\"dataframe\">\n",
       "  <thead>\n",
       "    <tr style=\"text-align: right;\">\n",
       "      <th></th>\n",
       "      <th>publishedAt</th>\n",
       "      <th>title</th>\n",
       "      <th>viewCount</th>\n",
       "    </tr>\n",
       "  </thead>\n",
       "  <tbody>\n",
       "    <tr>\n",
       "      <th>0</th>\n",
       "      <td>2021-04-08T08:00:09Z</td>\n",
       "      <td>에이치엘비 CAR-T 상업화 최소 3년이상 앞당길 수 있다!! CAR-T세포가 활성...</td>\n",
       "      <td>3970</td>\n",
       "    </tr>\n",
       "    <tr>\n",
       "      <th>1</th>\n",
       "      <td>2021-04-08T01:34:11Z</td>\n",
       "      <td>에이치엘비 주주 오세훈 서울시장 당선!!</td>\n",
       "      <td>4407</td>\n",
       "    </tr>\n",
       "    <tr>\n",
       "      <th>2</th>\n",
       "      <td>2021-04-07T21:00:15Z</td>\n",
       "      <td>에이치엘비 진양곤 회장은 코르키로부터 확보했던 넥스트사이언스의 메자닌에 대한 콜옵션...</td>\n",
       "      <td>6848</td>\n",
       "    </tr>\n",
       "    <tr>\n",
       "      <th>3</th>\n",
       "      <td>2021-04-07T08:15:01Z</td>\n",
       "      <td>에이치엘비 증선위 뉴스기사가 없는 것으로 보아 열리지 않고 무기한 연기 가능성!!</td>\n",
       "      <td>7507</td>\n",
       "    </tr>\n",
       "    <tr>\n",
       "      <th>4</th>\n",
       "      <td>2021-04-07T03:00:11Z</td>\n",
       "      <td>에이치엘비가 뛰어든 CAR-T치료제의 부작용은 노바티스와 길리어드사이언스에서도 보이...</td>\n",
       "      <td>3161</td>\n",
       "    </tr>\n",
       "  </tbody>\n",
       "</table>\n",
       "</div>"
      ],
      "text/plain": [
       "            publishedAt                                              title  \\\n",
       "0  2021-04-08T08:00:09Z  에이치엘비 CAR-T 상업화 최소 3년이상 앞당길 수 있다!! CAR-T세포가 활성...   \n",
       "1  2021-04-08T01:34:11Z                             에이치엘비 주주 오세훈 서울시장 당선!!   \n",
       "2  2021-04-07T21:00:15Z  에이치엘비 진양곤 회장은 코르키로부터 확보했던 넥스트사이언스의 메자닌에 대한 콜옵션...   \n",
       "3  2021-04-07T08:15:01Z      에이치엘비 증선위 뉴스기사가 없는 것으로 보아 열리지 않고 무기한 연기 가능성!!   \n",
       "4  2021-04-07T03:00:11Z  에이치엘비가 뛰어든 CAR-T치료제의 부작용은 노바티스와 길리어드사이언스에서도 보이...   \n",
       "\n",
       "   viewCount  \n",
       "0       3970  \n",
       "1       4407  \n",
       "2       6848  \n",
       "3       7507  \n",
       "4       3161  "
      ]
     },
     "execution_count": 13,
     "metadata": {},
     "output_type": "execute_result"
    }
   ],
   "source": [
    "df.head()"
   ]
  },
  {
   "cell_type": "code",
   "execution_count": 33,
   "metadata": {},
   "outputs": [
    {
     "data": {
      "text/plain": [
       "2591"
      ]
     },
     "execution_count": 33,
     "metadata": {},
     "output_type": "execute_result"
    }
   ],
   "source": [
    "len(df)"
   ]
  },
  {
   "cell_type": "markdown",
   "metadata": {},
   "source": [
    "# 제목에 '에이치엘비제약'이 있다면 Drop하기\n",
    "같은 그룹이지만 분석의 일관성을 위해 에이치엘비제약을 빼고 순수한 에이치엘비만 다룬다."
   ]
  },
  {
   "cell_type": "code",
   "execution_count": 18,
   "metadata": {},
   "outputs": [],
   "source": [
    "df_1 = df.copy()"
   ]
  },
  {
   "cell_type": "code",
   "execution_count": 19,
   "metadata": {},
   "outputs": [],
   "source": [
    "df_1['에이치엘비제약'] = df_1['title'].str.contains('에이치엘비제약')"
   ]
  },
  {
   "cell_type": "code",
   "execution_count": 26,
   "metadata": {
    "scrolled": true
   },
   "outputs": [],
   "source": [
    "# https://www.geeksforgeeks.org/drop-rows-from-the-dataframe-based-on-certain-condition-applied-on-a-column/\n",
    "df_1 = df_1.loc[(df_1['에이치엘비제약'] == False)]"
   ]
  },
  {
   "cell_type": "code",
   "execution_count": 34,
   "metadata": {},
   "outputs": [
    {
     "data": {
      "text/plain": [
       "2563"
      ]
     },
     "execution_count": 34,
     "metadata": {},
     "output_type": "execute_result"
    }
   ],
   "source": [
    "len(df_1)"
   ]
  },
  {
   "cell_type": "markdown",
   "metadata": {},
   "source": [
    "# 제목에 '에이치엘비'가 없다면 Drop하기"
   ]
  },
  {
   "cell_type": "code",
   "execution_count": 29,
   "metadata": {},
   "outputs": [],
   "source": [
    "df_2 = df_1.copy()"
   ]
  },
  {
   "cell_type": "code",
   "execution_count": 30,
   "metadata": {},
   "outputs": [],
   "source": [
    "df_2['에이치엘비'] = df_2['title'].str.contains('에이치엘비')"
   ]
  },
  {
   "cell_type": "code",
   "execution_count": 31,
   "metadata": {},
   "outputs": [],
   "source": [
    "df_2 = df_2.loc[(df_2['에이치엘비'] == True)]"
   ]
  },
  {
   "cell_type": "code",
   "execution_count": 35,
   "metadata": {},
   "outputs": [
    {
     "data": {
      "text/plain": [
       "1417"
      ]
     },
     "execution_count": 35,
     "metadata": {},
     "output_type": "execute_result"
    }
   ],
   "source": [
    "len(df_2)"
   ]
  },
  {
   "cell_type": "markdown",
   "metadata": {},
   "source": [
    "# 제목에 '에이치엘비생명과학'이 있다면 Drop하기\n",
    "같은 그룹이지만 분석의 일관성을 위해 에이치엘비생명과학을 빼고 순수한 에이치엘비만 다룬다."
   ]
  },
  {
   "cell_type": "code",
   "execution_count": 42,
   "metadata": {},
   "outputs": [],
   "source": [
    "df_3 = df_2.copy()"
   ]
  },
  {
   "cell_type": "code",
   "execution_count": 44,
   "metadata": {},
   "outputs": [],
   "source": [
    "df_3['에이치엘비생명과학'] = df_3['title'].str.contains('에이치엘비생명과학')"
   ]
  },
  {
   "cell_type": "code",
   "execution_count": 45,
   "metadata": {},
   "outputs": [],
   "source": [
    "df_3 = df_3.loc[(df_3['에이치엘비생명과학'] == False)]"
   ]
  },
  {
   "cell_type": "code",
   "execution_count": 46,
   "metadata": {},
   "outputs": [
    {
     "data": {
      "text/plain": [
       "1380"
      ]
     },
     "execution_count": 46,
     "metadata": {},
     "output_type": "execute_result"
    }
   ],
   "source": [
    "len(df_3)"
   ]
  },
  {
   "cell_type": "markdown",
   "metadata": {},
   "source": [
    "# 과거 절반 데이터 Drop하기\n",
    "채널이 성장해왔으므로 초창기 데이터와 최근 데이터를 같은 기준으로 분석하기에는 무리가 있다. 데이터셋을 절반으로 자른다. 그리하여 오래 전 데이터를 빼고 최근 데이터를 다룬다."
   ]
  },
  {
   "cell_type": "code",
   "execution_count": 54,
   "metadata": {},
   "outputs": [],
   "source": [
    "df_4 = df_3.copy()"
   ]
  },
  {
   "cell_type": "code",
   "execution_count": 66,
   "metadata": {},
   "outputs": [],
   "source": [
    "df_4 = df_4[:int((len(df_4)/2))]"
   ]
  },
  {
   "cell_type": "code",
   "execution_count": 67,
   "metadata": {},
   "outputs": [
    {
     "data": {
      "text/plain": [
       "690"
      ]
     },
     "execution_count": 67,
     "metadata": {},
     "output_type": "execute_result"
    }
   ],
   "source": [
    "len(df_4)"
   ]
  },
  {
   "cell_type": "markdown",
   "metadata": {},
   "source": [
    "# 조회수별로 정렬하기"
   ]
  },
  {
   "cell_type": "code",
   "execution_count": 69,
   "metadata": {},
   "outputs": [],
   "source": [
    "df_5 = df_4.copy()"
   ]
  },
  {
   "cell_type": "code",
   "execution_count": 70,
   "metadata": {},
   "outputs": [],
   "source": [
    "df_5 = df_5.sort_values(by='viewCount', ascending=False)"
   ]
  },
  {
   "cell_type": "code",
   "execution_count": 71,
   "metadata": {},
   "outputs": [
    {
     "data": {
      "text/html": [
       "<div>\n",
       "<style scoped>\n",
       "    .dataframe tbody tr th:only-of-type {\n",
       "        vertical-align: middle;\n",
       "    }\n",
       "\n",
       "    .dataframe tbody tr th {\n",
       "        vertical-align: top;\n",
       "    }\n",
       "\n",
       "    .dataframe thead th {\n",
       "        text-align: right;\n",
       "    }\n",
       "</style>\n",
       "<table border=\"1\" class=\"dataframe\">\n",
       "  <thead>\n",
       "    <tr style=\"text-align: right;\">\n",
       "      <th></th>\n",
       "      <th>publishedAt</th>\n",
       "      <th>title</th>\n",
       "      <th>viewCount</th>\n",
       "      <th>에이치엘비제약</th>\n",
       "      <th>에이치엘비</th>\n",
       "      <th>에이치엘비생명과학</th>\n",
       "    </tr>\n",
       "  </thead>\n",
       "  <tbody>\n",
       "    <tr>\n",
       "      <th>210</th>\n",
       "      <td>2021-02-16T03:16:09Z</td>\n",
       "      <td>에이치엘비 허위공시 보도에 대한 해명영상 오후2시 진양곤회장 유튜브 발표</td>\n",
       "      <td>47360</td>\n",
       "      <td>False</td>\n",
       "      <td>True</td>\n",
       "      <td>False</td>\n",
       "    </tr>\n",
       "    <tr>\n",
       "      <th>209</th>\n",
       "      <td>2021-02-16T07:22:57Z</td>\n",
       "      <td>에이치엘비 진양곤회장 유튜브를 보고나서...</td>\n",
       "      <td>35370</td>\n",
       "      <td>False</td>\n",
       "      <td>True</td>\n",
       "      <td>False</td>\n",
       "    </tr>\n",
       "    <tr>\n",
       "      <th>196</th>\n",
       "      <td>2021-02-18T05:56:55Z</td>\n",
       "      <td>에이치엘비 국민청원 등장, 외국인도 몰라서 물렸다.  검찰고발은 무슨 말일까?</td>\n",
       "      <td>31252</td>\n",
       "      <td>False</td>\n",
       "      <td>True</td>\n",
       "      <td>False</td>\n",
       "    </tr>\n",
       "    <tr>\n",
       "      <th>187</th>\n",
       "      <td>2021-02-19T08:48:09Z</td>\n",
       "      <td>에이치엘비 예정대로 NDA절차 밟겠다!</td>\n",
       "      <td>27637</td>\n",
       "      <td>False</td>\n",
       "      <td>True</td>\n",
       "      <td>False</td>\n",
       "    </tr>\n",
       "    <tr>\n",
       "      <th>203</th>\n",
       "      <td>2021-02-17T09:49:18Z</td>\n",
       "      <td>에이치엘비 거래정지는 없다!</td>\n",
       "      <td>25627</td>\n",
       "      <td>False</td>\n",
       "      <td>True</td>\n",
       "      <td>False</td>\n",
       "    </tr>\n",
       "  </tbody>\n",
       "</table>\n",
       "</div>"
      ],
      "text/plain": [
       "              publishedAt                                        title  \\\n",
       "210  2021-02-16T03:16:09Z     에이치엘비 허위공시 보도에 대한 해명영상 오후2시 진양곤회장 유튜브 발표   \n",
       "209  2021-02-16T07:22:57Z                     에이치엘비 진양곤회장 유튜브를 보고나서...   \n",
       "196  2021-02-18T05:56:55Z  에이치엘비 국민청원 등장, 외국인도 몰라서 물렸다.  검찰고발은 무슨 말일까?   \n",
       "187  2021-02-19T08:48:09Z                        에이치엘비 예정대로 NDA절차 밟겠다!   \n",
       "203  2021-02-17T09:49:18Z                              에이치엘비 거래정지는 없다!   \n",
       "\n",
       "     viewCount  에이치엘비제약  에이치엘비  에이치엘비생명과학  \n",
       "210      47360    False   True      False  \n",
       "209      35370    False   True      False  \n",
       "196      31252    False   True      False  \n",
       "187      27637    False   True      False  \n",
       "203      25627    False   True      False  "
      ]
     },
     "execution_count": 71,
     "metadata": {},
     "output_type": "execute_result"
    }
   ],
   "source": [
    "df_5.head()"
   ]
  },
  {
   "cell_type": "code",
   "execution_count": 72,
   "metadata": {},
   "outputs": [
    {
     "data": {
      "text/html": [
       "<div>\n",
       "<style scoped>\n",
       "    .dataframe tbody tr th:only-of-type {\n",
       "        vertical-align: middle;\n",
       "    }\n",
       "\n",
       "    .dataframe tbody tr th {\n",
       "        vertical-align: top;\n",
       "    }\n",
       "\n",
       "    .dataframe thead th {\n",
       "        text-align: right;\n",
       "    }\n",
       "</style>\n",
       "<table border=\"1\" class=\"dataframe\">\n",
       "  <thead>\n",
       "    <tr style=\"text-align: right;\">\n",
       "      <th></th>\n",
       "      <th>publishedAt</th>\n",
       "      <th>title</th>\n",
       "      <th>viewCount</th>\n",
       "      <th>에이치엘비제약</th>\n",
       "      <th>에이치엘비</th>\n",
       "      <th>에이치엘비생명과학</th>\n",
       "    </tr>\n",
       "  </thead>\n",
       "  <tbody>\n",
       "    <tr>\n",
       "      <th>505</th>\n",
       "      <td>2020-10-27T06:38:39Z</td>\n",
       "      <td>에이치엘비, 3세대 면역항암제가 표적항암제(ex리보)와 병용할 수 밖에 없는 이유|...</td>\n",
       "      <td>1143</td>\n",
       "      <td>False</td>\n",
       "      <td>True</td>\n",
       "      <td>False</td>\n",
       "    </tr>\n",
       "    <tr>\n",
       "      <th>463</th>\n",
       "      <td>2020-11-14T14:27:06Z</td>\n",
       "      <td>상장사가 투자한 펀드의 손실이 어떻게 소액주주들에게 전가되는가? (에이치엘비/헬릭스미스)</td>\n",
       "      <td>1121</td>\n",
       "      <td>False</td>\n",
       "      <td>True</td>\n",
       "      <td>False</td>\n",
       "    </tr>\n",
       "    <tr>\n",
       "      <th>509</th>\n",
       "      <td>2020-10-29T12:55:52Z</td>\n",
       "      <td>에이치엘비 시너지. '아파티닙+PD-L1 Blockade'는 면역반응을 강화합니다.</td>\n",
       "      <td>1022</td>\n",
       "      <td>False</td>\n",
       "      <td>True</td>\n",
       "      <td>False</td>\n",
       "    </tr>\n",
       "    <tr>\n",
       "      <th>466</th>\n",
       "      <td>2020-11-13T08:21:08Z</td>\n",
       "      <td>에이치엘비 아파티닙 OS 그래프 이해하기( Kaplan-Meier survival ...</td>\n",
       "      <td>865</td>\n",
       "      <td>False</td>\n",
       "      <td>True</td>\n",
       "      <td>False</td>\n",
       "    </tr>\n",
       "    <tr>\n",
       "      <th>514</th>\n",
       "      <td>2020-10-26T12:06:33Z</td>\n",
       "      <td>에이치엘비 리보세라닙의 3D모형입니다. crossover trial</td>\n",
       "      <td>688</td>\n",
       "      <td>False</td>\n",
       "      <td>True</td>\n",
       "      <td>False</td>\n",
       "    </tr>\n",
       "  </tbody>\n",
       "</table>\n",
       "</div>"
      ],
      "text/plain": [
       "              publishedAt                                              title  \\\n",
       "505  2020-10-27T06:38:39Z  에이치엘비, 3세대 면역항암제가 표적항암제(ex리보)와 병용할 수 밖에 없는 이유|...   \n",
       "463  2020-11-14T14:27:06Z  상장사가 투자한 펀드의 손실이 어떻게 소액주주들에게 전가되는가? (에이치엘비/헬릭스미스)   \n",
       "509  2020-10-29T12:55:52Z     에이치엘비 시너지. '아파티닙+PD-L1 Blockade'는 면역반응을 강화합니다.   \n",
       "466  2020-11-13T08:21:08Z  에이치엘비 아파티닙 OS 그래프 이해하기( Kaplan-Meier survival ...   \n",
       "514  2020-10-26T12:06:33Z              에이치엘비 리보세라닙의 3D모형입니다. crossover trial   \n",
       "\n",
       "     viewCount  에이치엘비제약  에이치엘비  에이치엘비생명과학  \n",
       "505       1143    False   True      False  \n",
       "463       1121    False   True      False  \n",
       "509       1022    False   True      False  \n",
       "466        865    False   True      False  \n",
       "514        688    False   True      False  "
      ]
     },
     "execution_count": 72,
     "metadata": {},
     "output_type": "execute_result"
    }
   ],
   "source": [
    "df_5.tail()"
   ]
  },
  {
   "cell_type": "markdown",
   "metadata": {},
   "source": [
    "# 제목 길이에 대한 Column 만들기\n",
    "참고 링크 : https://pandas.pydata.org/docs/reference/api/pandas.Series.str.len.html"
   ]
  },
  {
   "cell_type": "code",
   "execution_count": 73,
   "metadata": {},
   "outputs": [],
   "source": [
    "df_6 = df_5.copy()"
   ]
  },
  {
   "cell_type": "code",
   "execution_count": 75,
   "metadata": {},
   "outputs": [],
   "source": [
    "df_6['length'] = df_6['title'].str.len()"
   ]
  },
  {
   "cell_type": "code",
   "execution_count": 76,
   "metadata": {},
   "outputs": [
    {
     "data": {
      "text/html": [
       "<div>\n",
       "<style scoped>\n",
       "    .dataframe tbody tr th:only-of-type {\n",
       "        vertical-align: middle;\n",
       "    }\n",
       "\n",
       "    .dataframe tbody tr th {\n",
       "        vertical-align: top;\n",
       "    }\n",
       "\n",
       "    .dataframe thead th {\n",
       "        text-align: right;\n",
       "    }\n",
       "</style>\n",
       "<table border=\"1\" class=\"dataframe\">\n",
       "  <thead>\n",
       "    <tr style=\"text-align: right;\">\n",
       "      <th></th>\n",
       "      <th>publishedAt</th>\n",
       "      <th>title</th>\n",
       "      <th>viewCount</th>\n",
       "      <th>에이치엘비제약</th>\n",
       "      <th>에이치엘비</th>\n",
       "      <th>에이치엘비생명과학</th>\n",
       "      <th>length</th>\n",
       "    </tr>\n",
       "  </thead>\n",
       "  <tbody>\n",
       "    <tr>\n",
       "      <th>210</th>\n",
       "      <td>2021-02-16T03:16:09Z</td>\n",
       "      <td>에이치엘비 허위공시 보도에 대한 해명영상 오후2시 진양곤회장 유튜브 발표</td>\n",
       "      <td>47360</td>\n",
       "      <td>False</td>\n",
       "      <td>True</td>\n",
       "      <td>False</td>\n",
       "      <td>40</td>\n",
       "    </tr>\n",
       "    <tr>\n",
       "      <th>209</th>\n",
       "      <td>2021-02-16T07:22:57Z</td>\n",
       "      <td>에이치엘비 진양곤회장 유튜브를 보고나서...</td>\n",
       "      <td>35370</td>\n",
       "      <td>False</td>\n",
       "      <td>True</td>\n",
       "      <td>False</td>\n",
       "      <td>24</td>\n",
       "    </tr>\n",
       "    <tr>\n",
       "      <th>196</th>\n",
       "      <td>2021-02-18T05:56:55Z</td>\n",
       "      <td>에이치엘비 국민청원 등장, 외국인도 몰라서 물렸다.  검찰고발은 무슨 말일까?</td>\n",
       "      <td>31252</td>\n",
       "      <td>False</td>\n",
       "      <td>True</td>\n",
       "      <td>False</td>\n",
       "      <td>43</td>\n",
       "    </tr>\n",
       "    <tr>\n",
       "      <th>187</th>\n",
       "      <td>2021-02-19T08:48:09Z</td>\n",
       "      <td>에이치엘비 예정대로 NDA절차 밟겠다!</td>\n",
       "      <td>27637</td>\n",
       "      <td>False</td>\n",
       "      <td>True</td>\n",
       "      <td>False</td>\n",
       "      <td>21</td>\n",
       "    </tr>\n",
       "    <tr>\n",
       "      <th>203</th>\n",
       "      <td>2021-02-17T09:49:18Z</td>\n",
       "      <td>에이치엘비 거래정지는 없다!</td>\n",
       "      <td>25627</td>\n",
       "      <td>False</td>\n",
       "      <td>True</td>\n",
       "      <td>False</td>\n",
       "      <td>15</td>\n",
       "    </tr>\n",
       "  </tbody>\n",
       "</table>\n",
       "</div>"
      ],
      "text/plain": [
       "              publishedAt                                        title  \\\n",
       "210  2021-02-16T03:16:09Z     에이치엘비 허위공시 보도에 대한 해명영상 오후2시 진양곤회장 유튜브 발표   \n",
       "209  2021-02-16T07:22:57Z                     에이치엘비 진양곤회장 유튜브를 보고나서...   \n",
       "196  2021-02-18T05:56:55Z  에이치엘비 국민청원 등장, 외국인도 몰라서 물렸다.  검찰고발은 무슨 말일까?   \n",
       "187  2021-02-19T08:48:09Z                        에이치엘비 예정대로 NDA절차 밟겠다!   \n",
       "203  2021-02-17T09:49:18Z                              에이치엘비 거래정지는 없다!   \n",
       "\n",
       "     viewCount  에이치엘비제약  에이치엘비  에이치엘비생명과학  length  \n",
       "210      47360    False   True      False      40  \n",
       "209      35370    False   True      False      24  \n",
       "196      31252    False   True      False      43  \n",
       "187      27637    False   True      False      21  \n",
       "203      25627    False   True      False      15  "
      ]
     },
     "execution_count": 76,
     "metadata": {},
     "output_type": "execute_result"
    }
   ],
   "source": [
    "df_6.head()"
   ]
  },
  {
   "cell_type": "code",
   "execution_count": 77,
   "metadata": {},
   "outputs": [
    {
     "data": {
      "text/html": [
       "<div>\n",
       "<style scoped>\n",
       "    .dataframe tbody tr th:only-of-type {\n",
       "        vertical-align: middle;\n",
       "    }\n",
       "\n",
       "    .dataframe tbody tr th {\n",
       "        vertical-align: top;\n",
       "    }\n",
       "\n",
       "    .dataframe thead th {\n",
       "        text-align: right;\n",
       "    }\n",
       "</style>\n",
       "<table border=\"1\" class=\"dataframe\">\n",
       "  <thead>\n",
       "    <tr style=\"text-align: right;\">\n",
       "      <th></th>\n",
       "      <th>publishedAt</th>\n",
       "      <th>title</th>\n",
       "      <th>viewCount</th>\n",
       "      <th>에이치엘비제약</th>\n",
       "      <th>에이치엘비</th>\n",
       "      <th>에이치엘비생명과학</th>\n",
       "      <th>length</th>\n",
       "    </tr>\n",
       "  </thead>\n",
       "  <tbody>\n",
       "    <tr>\n",
       "      <th>505</th>\n",
       "      <td>2020-10-27T06:38:39Z</td>\n",
       "      <td>에이치엘비, 3세대 면역항암제가 표적항암제(ex리보)와 병용할 수 밖에 없는 이유|...</td>\n",
       "      <td>1143</td>\n",
       "      <td>False</td>\n",
       "      <td>True</td>\n",
       "      <td>False</td>\n",
       "      <td>92</td>\n",
       "    </tr>\n",
       "    <tr>\n",
       "      <th>463</th>\n",
       "      <td>2020-11-14T14:27:06Z</td>\n",
       "      <td>상장사가 투자한 펀드의 손실이 어떻게 소액주주들에게 전가되는가? (에이치엘비/헬릭스미스)</td>\n",
       "      <td>1121</td>\n",
       "      <td>False</td>\n",
       "      <td>True</td>\n",
       "      <td>False</td>\n",
       "      <td>49</td>\n",
       "    </tr>\n",
       "    <tr>\n",
       "      <th>509</th>\n",
       "      <td>2020-10-29T12:55:52Z</td>\n",
       "      <td>에이치엘비 시너지. '아파티닙+PD-L1 Blockade'는 면역반응을 강화합니다.</td>\n",
       "      <td>1022</td>\n",
       "      <td>False</td>\n",
       "      <td>True</td>\n",
       "      <td>False</td>\n",
       "      <td>46</td>\n",
       "    </tr>\n",
       "    <tr>\n",
       "      <th>466</th>\n",
       "      <td>2020-11-13T08:21:08Z</td>\n",
       "      <td>에이치엘비 아파티닙 OS 그래프 이해하기( Kaplan-Meier survival ...</td>\n",
       "      <td>865</td>\n",
       "      <td>False</td>\n",
       "      <td>True</td>\n",
       "      <td>False</td>\n",
       "      <td>52</td>\n",
       "    </tr>\n",
       "    <tr>\n",
       "      <th>514</th>\n",
       "      <td>2020-10-26T12:06:33Z</td>\n",
       "      <td>에이치엘비 리보세라닙의 3D모형입니다. crossover trial</td>\n",
       "      <td>688</td>\n",
       "      <td>False</td>\n",
       "      <td>True</td>\n",
       "      <td>False</td>\n",
       "      <td>37</td>\n",
       "    </tr>\n",
       "  </tbody>\n",
       "</table>\n",
       "</div>"
      ],
      "text/plain": [
       "              publishedAt                                              title  \\\n",
       "505  2020-10-27T06:38:39Z  에이치엘비, 3세대 면역항암제가 표적항암제(ex리보)와 병용할 수 밖에 없는 이유|...   \n",
       "463  2020-11-14T14:27:06Z  상장사가 투자한 펀드의 손실이 어떻게 소액주주들에게 전가되는가? (에이치엘비/헬릭스미스)   \n",
       "509  2020-10-29T12:55:52Z     에이치엘비 시너지. '아파티닙+PD-L1 Blockade'는 면역반응을 강화합니다.   \n",
       "466  2020-11-13T08:21:08Z  에이치엘비 아파티닙 OS 그래프 이해하기( Kaplan-Meier survival ...   \n",
       "514  2020-10-26T12:06:33Z              에이치엘비 리보세라닙의 3D모형입니다. crossover trial   \n",
       "\n",
       "     viewCount  에이치엘비제약  에이치엘비  에이치엘비생명과학  length  \n",
       "505       1143    False   True      False      92  \n",
       "463       1121    False   True      False      49  \n",
       "509       1022    False   True      False      46  \n",
       "466        865    False   True      False      52  \n",
       "514        688    False   True      False      37  "
      ]
     },
     "execution_count": 77,
     "metadata": {},
     "output_type": "execute_result"
    }
   ],
   "source": [
    "df_6.tail()"
   ]
  },
  {
   "cell_type": "markdown",
   "metadata": {},
   "source": [
    "# 조회수 순위를 5등급으로 나눠 각각의 평균 구하기"
   ]
  },
  {
   "cell_type": "code",
   "execution_count": 79,
   "metadata": {},
   "outputs": [],
   "source": [
    "df_7 = df_6.copy()"
   ]
  },
  {
   "cell_type": "markdown",
   "metadata": {},
   "source": [
    "방법1 : 직관적인 계산"
   ]
  },
  {
   "cell_type": "code",
   "execution_count": 80,
   "metadata": {},
   "outputs": [
    {
     "data": {
      "text/plain": [
       "690"
      ]
     },
     "execution_count": 80,
     "metadata": {},
     "output_type": "execute_result"
    }
   ],
   "source": [
    "len(df_7)"
   ]
  },
  {
   "cell_type": "code",
   "execution_count": 81,
   "metadata": {},
   "outputs": [
    {
     "data": {
      "text/plain": [
       "138"
      ]
     },
     "execution_count": 81,
     "metadata": {},
     "output_type": "execute_result"
    }
   ],
   "source": [
    "int(len(df_7)/5)"
   ]
  },
  {
   "cell_type": "code",
   "execution_count": 87,
   "metadata": {},
   "outputs": [
    {
     "data": {
      "text/plain": [
       "42.572463768115945"
      ]
     },
     "execution_count": 87,
     "metadata": {},
     "output_type": "execute_result"
    }
   ],
   "source": [
    "df_7[:138]['length'].mean()"
   ]
  },
  {
   "cell_type": "code",
   "execution_count": 88,
   "metadata": {},
   "outputs": [
    {
     "data": {
      "text/plain": [
       "42.31884057971015"
      ]
     },
     "execution_count": 88,
     "metadata": {},
     "output_type": "execute_result"
    }
   ],
   "source": [
    "df_7[138:138*2]['length'].mean()"
   ]
  },
  {
   "cell_type": "code",
   "execution_count": 89,
   "metadata": {},
   "outputs": [
    {
     "data": {
      "text/plain": [
       "48.05072463768116"
      ]
     },
     "execution_count": 89,
     "metadata": {},
     "output_type": "execute_result"
    }
   ],
   "source": [
    "df_7[138*2:138*3]['length'].mean()"
   ]
  },
  {
   "cell_type": "code",
   "execution_count": 90,
   "metadata": {
    "scrolled": true
   },
   "outputs": [
    {
     "data": {
      "text/plain": [
       "50.54347826086956"
      ]
     },
     "execution_count": 90,
     "metadata": {},
     "output_type": "execute_result"
    }
   ],
   "source": [
    "df_7[138*3:138*4]['length'].mean()"
   ]
  },
  {
   "cell_type": "code",
   "execution_count": 91,
   "metadata": {},
   "outputs": [
    {
     "data": {
      "text/plain": [
       "50.46376811594203"
      ]
     },
     "execution_count": 91,
     "metadata": {},
     "output_type": "execute_result"
    }
   ],
   "source": [
    "df_7[138*4:138*5]['length'].mean()"
   ]
  },
  {
   "cell_type": "markdown",
   "metadata": {},
   "source": [
    "방법2 : For Loop"
   ]
  },
  {
   "cell_type": "code",
   "execution_count": 104,
   "metadata": {},
   "outputs": [],
   "source": [
    "index = int(len(df_7)/5)\n",
    "y = []"
   ]
  },
  {
   "cell_type": "code",
   "execution_count": 105,
   "metadata": {},
   "outputs": [
    {
     "name": "stdout",
     "output_type": "stream",
     "text": [
      "조회수 상위 1 위 제목길이는 :  43\n",
      "조회수 상위 2 위 제목길이는 :  42\n",
      "조회수 상위 3 위 제목길이는 :  48\n",
      "조회수 상위 4 위 제목길이는 :  51\n",
      "조회수 상위 5 위 제목길이는 :  50\n"
     ]
    }
   ],
   "source": [
    "for i in range(0,5):\n",
    "    print('조회수 상위', i+1, '위 제목길이는 : ', round(df_7[index*i:index*(i+1)]['length'].mean()))\n",
    "    y.append(df_7[index*i:index*(i+1)]['length'].mean())"
   ]
  },
  {
   "cell_type": "markdown",
   "metadata": {},
   "source": [
    "# 그래프로 시각화하기\n",
    "눈금 표시하기 : https://wikidocs.net/92089"
   ]
  },
  {
   "cell_type": "code",
   "execution_count": 120,
   "metadata": {},
   "outputs": [],
   "source": [
    "import matplotlib.pyplot as plt"
   ]
  },
  {
   "cell_type": "code",
   "execution_count": 118,
   "metadata": {},
   "outputs": [],
   "source": [
    "x = [1,2,3,4,5]\n",
    "y = y"
   ]
  },
  {
   "cell_type": "code",
   "execution_count": 126,
   "metadata": {},
   "outputs": [
    {
     "data": {
      "image/png": "[encoded data removed]",
      "text/plain": [
       "<Figure size 432x288 with 1 Axes>"
      ]
     },
     "metadata": {
      "needs_background": "light"
     },
     "output_type": "display_data"
    }
   ],
   "source": [
    "plt.plot(x,y)\n",
    "plt.xlabel('viewCount ranking')\n",
    "plt.ylabel('length of title')\n",
    "plt.xticks([0,1,2,3,4,5])\n",
    "plt.show()"
   ]
  },
  {
   "cell_type": "markdown",
   "metadata": {},
   "source": [
    "# Results\n",
    "조회수가 높을수록 제목 길이가 짧다. 추세를 볼 수 있다."
   ]
  },
  {
   "cell_type": "markdown",
   "metadata": {},
   "source": [
    "# Conclusion\n",
    "제목 길이를 짧게 한다. 영어보다 한글을 쓴다. 왜냐하면 영어를 쓰면 제목 길이가 늘어나기 때문이다."
   ]
  }
 ],
 "metadata": {
  "kernelspec": {
   "display_name": "Python 3",
   "language": "python",
   "name": "python3"
  },
  "language_info": {
   "codemirror_mode": {
    "name": "ipython",
    "version": 3
   },
   "file_extension": ".py",
   "mimetype": "text/x-python",
   "name": "python",
   "nbconvert_exporter": "python",
   "pygments_lexer": "ipython3",
   "version": "3.7.3"
  }
 },
 "nbformat": 4,
 "nbformat_minor": 2
}
