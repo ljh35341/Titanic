{
 "cells": [
  {
   "cell_type": "code",
   "execution_count": 1,
   "metadata": {},
   "outputs": [],
   "source": [
    "api_key = \"\"\n",
    "channel_id = \"\""
   ]
  },
  {
   "cell_type": "code",
   "execution_count": 2,
   "metadata": {},
   "outputs": [],
   "source": [
    "from googleapiclient.discovery import build\n",
    "youtube = build(\"youtube\", \"v3\", developerKey=api_key)"
   ]
  },
  {
   "cell_type": "code",
   "execution_count": 3,
   "metadata": {},
   "outputs": [],
   "source": [
    "def get_channel_videos(channel_id):\n",
    "    res = youtube.channels().list(id=channel_id,\n",
    "                                 part=\"contentDetails\").execute()\n",
    "    playlist_id = res[\"items\"][0][\"contentDetails\"][\"relatedPlaylists\"][\"uploads\"]\n",
    "    \n",
    "    videos = []\n",
    "    next_page_token = None\n",
    "    \n",
    "    while 1:\n",
    "        res = youtube.playlistItems().list(playlistId=playlist_id,\n",
    "                                          part=\"snippet\",\n",
    "                                          maxResults=50,\n",
    "                                          pageToken=next_page_token).execute()\n",
    "        videos += res[\"items\"]\n",
    "        next_page_token = res.get(\"nextPageToken\")\n",
    "        \n",
    "        if next_page_token is None:\n",
    "            break\n",
    "    \n",
    "    return videos"
   ]
  },
  {
   "cell_type": "code",
   "execution_count": 4,
   "metadata": {},
   "outputs": [],
   "source": [
    "videos = get_channel_videos(channel_id)"
   ]
  },
  {
   "cell_type": "code",
   "execution_count": 5,
   "metadata": {},
   "outputs": [],
   "source": [
    "res = youtube.videos().list(id=videos[0][\"snippet\"][\"resourceId\"][\"videoId\"],\n",
    "                           part=\"statistics\").execute()"
   ]
  },
  {
   "cell_type": "code",
   "execution_count": 6,
   "metadata": {},
   "outputs": [],
   "source": [
    "video_ids = list(map(lambda x:x['snippet']['resourceId']['videoId'], videos))"
   ]
  },
  {
   "cell_type": "code",
   "execution_count": 7,
   "metadata": {},
   "outputs": [],
   "source": [
    "def get_videos_stats(video_ids):\n",
    "    stats = []\n",
    "    for i in range(0, len(video_ids), 50):\n",
    "        res = youtube.videos().list(id=','.join(video_ids[i:i+50]),\n",
    "                                   part='statistics').execute()\n",
    "        stats += res['items']\n",
    "    return stats"
   ]
  },
  {
   "cell_type": "code",
   "execution_count": 8,
   "metadata": {},
   "outputs": [],
   "source": [
    "stats = get_videos_stats(video_ids)"
   ]
  },
  {
   "cell_type": "code",
   "execution_count": 9,
   "metadata": {},
   "outputs": [],
   "source": [
    "publishedAt = []\n",
    "title = []\n",
    "viewCount = []\n",
    "for i in range(len(videos)):\n",
    "    publishedAt.append(videos[i]['snippet']['publishedAt'])\n",
    "    title.append(videos[i]['snippet']['title'])\n",
    "    viewCount.append(stats[i]['statistics']['viewCount'])"
   ]
  },
  {
   "cell_type": "code",
   "execution_count": 10,
   "metadata": {},
   "outputs": [],
   "source": [
    "dict = {}\n",
    "dict[\"publishedAt\"] = publishedAt\n",
    "dict[\"title\"] = title\n",
    "dict[\"viewCount\"] = viewCount"
   ]
  },
  {
   "cell_type": "code",
   "execution_count": 11,
   "metadata": {},
   "outputs": [],
   "source": [
    "import pandas as pd\n",
    "df = pd.DataFrame.from_dict(dict)"
   ]
  },
  {
   "cell_type": "code",
   "execution_count": 13,
   "metadata": {},
   "outputs": [],
   "source": [
    "import pandas as pd\n",
    "df = pd.DataFrame.from_dict(dict)"
   ]
  },
  {
   "cell_type": "code",
   "execution_count": 14,
   "metadata": {},
   "outputs": [
    {
     "data": {
      "text/html": [
       "<div>\n",
       "<style scoped>\n",
       "    .dataframe tbody tr th:only-of-type {\n",
       "        vertical-align: middle;\n",
       "    }\n",
       "\n",
       "    .dataframe tbody tr th {\n",
       "        vertical-align: top;\n",
       "    }\n",
       "\n",
       "    .dataframe thead th {\n",
       "        text-align: right;\n",
       "    }\n",
       "</style>\n",
       "<table border=\"1\" class=\"dataframe\">\n",
       "  <thead>\n",
       "    <tr style=\"text-align: right;\">\n",
       "      <th></th>\n",
       "      <th>publishedAt</th>\n",
       "      <th>title</th>\n",
       "      <th>viewCount</th>\n",
       "    </tr>\n",
       "  </thead>\n",
       "  <tbody>\n",
       "    <tr>\n",
       "      <th>0</th>\n",
       "      <td>2021-04-06T09:00:04Z</td>\n",
       "      <td>에이치엘비 잔인한 13연속 하락추세 차트!!</td>\n",
       "      <td>1080</td>\n",
       "    </tr>\n",
       "    <tr>\n",
       "      <th>1</th>\n",
       "      <td>2021-04-06T03:15:51Z</td>\n",
       "      <td>에이치엘비 돌려받을 가능성 UP!! | 금감원 분쟁조정위원회는 옵티머스 100% 전...</td>\n",
       "      <td>3290</td>\n",
       "    </tr>\n",
       "    <tr>\n",
       "      <th>2</th>\n",
       "      <td>2021-04-06T03:00:07Z</td>\n",
       "      <td>에이치엘비 공매도잔고 또 백만주 증가!! 무상증자후 공매도잔고는 2배!!</td>\n",
       "      <td>5024</td>\n",
       "    </tr>\n",
       "    <tr>\n",
       "      <th>3</th>\n",
       "      <td>2021-04-05T21:00:23Z</td>\n",
       "      <td>에이치엘비 10년전 진양곤회장의 놀라운 매수 평단가!!</td>\n",
       "      <td>8210</td>\n",
       "    </tr>\n",
       "    <tr>\n",
       "      <th>4</th>\n",
       "      <td>2021-04-05T09:00:06Z</td>\n",
       "      <td>에이치엘비와 달리 삼성바이오로직스는 증선위로 거래정지 된 이유!!</td>\n",
       "      <td>6841</td>\n",
       "    </tr>\n",
       "  </tbody>\n",
       "</table>\n",
       "</div>"
      ],
      "text/plain": [
       "            publishedAt                                              title  \\\n",
       "0  2021-04-06T09:00:04Z                           에이치엘비 잔인한 13연속 하락추세 차트!!   \n",
       "1  2021-04-06T03:15:51Z  에이치엘비 돌려받을 가능성 UP!! | 금감원 분쟁조정위원회는 옵티머스 100% 전...   \n",
       "2  2021-04-06T03:00:07Z           에이치엘비 공매도잔고 또 백만주 증가!! 무상증자후 공매도잔고는 2배!!   \n",
       "3  2021-04-05T21:00:23Z                     에이치엘비 10년전 진양곤회장의 놀라운 매수 평단가!!   \n",
       "4  2021-04-05T09:00:06Z               에이치엘비와 달리 삼성바이오로직스는 증선위로 거래정지 된 이유!!   \n",
       "\n",
       "  viewCount  \n",
       "0      1080  \n",
       "1      3290  \n",
       "2      5024  \n",
       "3      8210  \n",
       "4      6841  "
      ]
     },
     "execution_count": 14,
     "metadata": {},
     "output_type": "execute_result"
    }
   ],
   "source": [
    "df.head()"
   ]
  },
  {
   "cell_type": "code",
   "execution_count": 69,
   "metadata": {},
   "outputs": [],
   "source": [
    "foreign_firm = []\n",
    "hlb = []"
   ]
  },
  {
   "cell_type": "code",
   "execution_count": 70,
   "metadata": {},
   "outputs": [],
   "source": [
    "for i in dict['title']:\n",
    "    if '임클론' in i.lower():\n",
    "        foreign_firm.append(i)\n",
    "    elif 'imclone'in i.lower():\n",
    "        foreign_firm.append(i)\n",
    "    elif '아베오'in i.lower():\n",
    "        foreign_firm.append(i)\n",
    "    elif 'aveo'in i.lower():\n",
    "        foreign_firm.append(i)\n",
    "    elif '티보자닙'in i.lower():\n",
    "        foreign_firm.append(i)\n",
    "    elif 'tivozanib' in i.lower():\n",
    "        foreign_firm.append(i)\n",
    "    elif 'erbitux' in i.lower():\n",
    "        foreign_firm.append(i)"
   ]
  },
  {
   "cell_type": "code",
   "execution_count": 71,
   "metadata": {},
   "outputs": [
    {
     "data": {
      "text/plain": [
       "['에이치엘비 참고사례: \"축경축\" AVEO 티보자닙 FDA승인 후 초급등!! OS가 아닌 PFS!!',\n",
       " '에이치엘비 참고사례: \"축경축\" AVEO 티보자닙 FDA승인 후 초급등! 무상증자 받을 것인가? 피할 것인가? 나는 어떻게 할 것인가? 묻고 더블로 가? 빅토리세력 종토방 일시점령',\n",
       " '에이치엘비 주가 참고 사례 | 티보자닙은 어떤 식으로 투자자들을 misleading하였는가?',\n",
       " '에이치엘비 리보세라닙과 아베오 티보자닙의 공통점과 차이점',\n",
       " '에이치엘비 참고 사례 | 신약개발 회사 진짜인지 사기인지 헷갈리는 이유? 아베오는 어떤 FDA 권고를 숨기고 자금조달하였는가?',\n",
       " '에이치엘비와 비슷하지만 다른 점. 아베오 CFO의 유죄판결(misleading investors)',\n",
       " '에이치엘비 참고사례 | FDA가 재도전한 티보자닙의 NDA제출 받아줬다! (OS 통계적 유의성 미확보, PFS는 뛰어남) 신약승인 나온다면?!',\n",
       " '에이치엘비 참고사례 | 신약승인 사례에서 티보자닙(Tivozanib)은 FDA승인거절 당했지만 유럽에선 승인받았다!',\n",
       " '에이치엘비 | 임클론... FDA로부터 제출거절(RTF)을 받고나서 그 뒤의 이야기',\n",
       " '에이치엘비 | [임클론 최종결말] ASCO에서 발표되고 누구도 의심하지 않았던 9923임상시험은 도대체 어디서 잘못되었던 걸까?',\n",
       " '에이치엘비 | FDA가 추가임상을 요구했던 임클론이 잘못된 진짜 이유(반전)',\n",
       " '에이치엘비와 ImClone의 차이점을 알면 잘못될 경우에 신호를 포착할 수 있습니다. 가장 먼저 탈출하는 자를 눈여겨 봐라!',\n",
       " '에이치엘비 | 과거에 ImClone이 잘못되어가고 있다는 신호(FDA로부터 RTF를 받은 사실)를 미리 알 수 있는 방법은 없었을까?',\n",
       " \"에이치엘비 아필리아 | FDA는 승인을 내주기 위해 추가 임상을 요구하기도 합니다. (ex. ImClone's Erbitux)\"]"
      ]
     },
     "execution_count": 71,
     "metadata": {},
     "output_type": "execute_result"
    }
   ],
   "source": [
    "foreign_firm"
   ]
  },
  {
   "cell_type": "code",
   "execution_count": 72,
   "metadata": {},
   "outputs": [],
   "source": [
    "foreign_firm_publishedAt = []"
   ]
  },
  {
   "cell_type": "code",
   "execution_count": 73,
   "metadata": {},
   "outputs": [],
   "source": [
    "for i, title in enumerate(dict['title']):\n",
    "    if '임클론' in title.lower():\n",
    "        foreign_firm_publishedAt.append(dict['publishedAt'][i])\n",
    "    elif 'imclone'in title.lower():\n",
    "        foreign_firm_publishedAt.append(dict['publishedAt'][i])\n",
    "    elif '아베오'in title.lower():\n",
    "        foreign_firm_publishedAt.append(dict['publishedAt'][i])\n",
    "    elif 'aveo'in title.lower():\n",
    "        foreign_firm_publishedAt.append(dict['publishedAt'][i])\n",
    "    elif '티보자닙'in title.lower():\n",
    "        foreign_firm_publishedAt.append(dict['publishedAt'][i])\n",
    "    elif 'tivozanib' in title.lower():\n",
    "        foreign_firm_publishedAt.append(dict['publishedAt'][i])\n",
    "    elif 'erbitux' in title.lower():\n",
    "        foreign_firm_publishedAt.append(dict['publishedAt'][i])"
   ]
  },
  {
   "cell_type": "code",
   "execution_count": 74,
   "metadata": {},
   "outputs": [
    {
     "data": {
      "text/plain": [
       "'2020-12-06T12:42:02Z'"
      ]
     },
     "execution_count": 74,
     "metadata": {},
     "output_type": "execute_result"
    }
   ],
   "source": [
    "min(foreign_firm_publishedAt)"
   ]
  },
  {
   "cell_type": "code",
   "execution_count": 78,
   "metadata": {},
   "outputs": [
    {
     "name": "stdout",
     "output_type": "stream",
     "text": [
      "404\n"
     ]
    }
   ],
   "source": [
    "for i, time in enumerate(dict['publishedAt']):\n",
    "    if min(foreign_firm_publishedAt) in time:\n",
    "        print(i+1)"
   ]
  },
  {
   "cell_type": "code",
   "execution_count": 76,
   "metadata": {},
   "outputs": [
    {
     "data": {
      "text/plain": [
       "\"에이치엘비 아필리아 | FDA는 승인을 내주기 위해 추가 임상을 요구하기도 합니다. (ex. ImClone's Erbitux)\""
      ]
     },
     "execution_count": 76,
     "metadata": {},
     "output_type": "execute_result"
    }
   ],
   "source": [
    "dict['title'][403]"
   ]
  },
  {
   "cell_type": "code",
   "execution_count": 77,
   "metadata": {},
   "outputs": [
    {
     "data": {
      "text/plain": [
       "'에이치엘비 아필리아 예상 시판 승인 기간이 관계대명사(, which) 해석 하나에 달라집니다.'"
      ]
     },
     "execution_count": 77,
     "metadata": {},
     "output_type": "execute_result"
    }
   ],
   "source": [
    "dict['title'][404]"
   ]
  },
  {
   "cell_type": "code",
   "execution_count": 116,
   "metadata": {},
   "outputs": [],
   "source": [
    "viewcount_foreign = []\n",
    "viewcount_hlb = []"
   ]
  },
  {
   "cell_type": "code",
   "execution_count": 117,
   "metadata": {},
   "outputs": [],
   "source": [
    "for i, title in enumerate(dict['title'][:405]):\n",
    "    if '임클론' in title.lower():\n",
    "        viewcount_foreign.append(int(dict['viewCount'][i]))\n",
    "    elif 'imclone'in title.lower():\n",
    "        viewcount_foreign.append(int(dict['viewCount'][i]))\n",
    "    elif '아베오'in title.lower():\n",
    "        viewcount_foreign.append(int(dict['viewCount'][i]))\n",
    "    elif 'aveo'in title.lower():\n",
    "        viewcount_foreign.append(int(dict['viewCount'][i]))\n",
    "    elif '티보자닙'in title.lower():\n",
    "        viewcount_foreign.append(int(dict['viewCount'][i]))\n",
    "    elif 'tivozanib' in title.lower():\n",
    "        viewcount_foreign.append(int(dict['viewCount'][i]))\n",
    "    elif 'erbitux' in title.lower():\n",
    "        viewcount_foreign.append(int(dict['viewCount'][i]))"
   ]
  },
  {
   "cell_type": "code",
   "execution_count": 118,
   "metadata": {},
   "outputs": [],
   "source": [
    "for i, title in enumerate(dict['title'][:405]):\n",
    "    if '에이치엘비' in title:\n",
    "        viewcount_hlb.append(int(dict['viewCount'][i]))"
   ]
  },
  {
   "cell_type": "code",
   "execution_count": 119,
   "metadata": {},
   "outputs": [
    {
     "data": {
      "text/plain": [
       "14"
      ]
     },
     "execution_count": 119,
     "metadata": {},
     "output_type": "execute_result"
    }
   ],
   "source": [
    "len(viewcount_foreign)"
   ]
  },
  {
   "cell_type": "code",
   "execution_count": 120,
   "metadata": {},
   "outputs": [
    {
     "data": {
      "text/plain": [
       "375"
      ]
     },
     "execution_count": 120,
     "metadata": {},
     "output_type": "execute_result"
    }
   ],
   "source": [
    "len(viewcount_hlb)"
   ]
  },
  {
   "cell_type": "code",
   "execution_count": 121,
   "metadata": {},
   "outputs": [],
   "source": [
    "mean_viewcount_foreign = sum(viewcount_foreign)/len(viewcount_foreign)\n",
    "mean_viewcount_hlb = sum(viewcount_hlb)/len(viewcount_hlb)"
   ]
  },
  {
   "cell_type": "code",
   "execution_count": 122,
   "metadata": {},
   "outputs": [
    {
     "data": {
      "text/plain": [
       "8706.92857142857"
      ]
     },
     "execution_count": 122,
     "metadata": {},
     "output_type": "execute_result"
    }
   ],
   "source": [
    "mean_viewcount_foreign"
   ]
  },
  {
   "cell_type": "code",
   "execution_count": 123,
   "metadata": {},
   "outputs": [
    {
     "data": {
      "text/plain": [
       "9798.682666666668"
      ]
     },
     "execution_count": 123,
     "metadata": {},
     "output_type": "execute_result"
    }
   ],
   "source": [
    "mean_viewcount_hlb"
   ]
  },
  {
   "cell_type": "code",
   "execution_count": 125,
   "metadata": {
    "scrolled": true
   },
   "outputs": [
    {
     "data": {
      "image/png": "[encoded data removed]",
      "text/plain": [
       "<Figure size 432x432 with 1 Axes>"
      ]
     },
     "metadata": {
      "needs_background": "light"
     },
     "output_type": "display_data"
    }
   ],
   "source": [
    "import matplotlib.pyplot as plt\n",
    "%matplotlib inline\n",
    "\n",
    "plt.figure(figsize=(6, 6))\n",
    "plt.grid()\n",
    "plt.boxplot([viewcount_foreign, viewcount_hlb])\n",
    "plt.xlabel('when')\n",
    "plt.ylabel('score')\n",
    "plt.title('Box Plot')\n",
    "plt.grid()\n",
    "plt.show()"
   ]
  },
  {
   "cell_type": "code",
   "execution_count": 126,
   "metadata": {},
   "outputs": [
    {
     "data": {
      "text/plain": [
       "Ttest_indResult(statistic=-0.7309546298510192, pvalue=0.4652491766939407)"
      ]
     },
     "execution_count": 126,
     "metadata": {},
     "output_type": "execute_result"
    }
   ],
   "source": [
    "from scipy.stats import ttest_ind\n",
    "ttest_ind(viewcount_foreign, viewcount_hlb)"
   ]
  },
  {
   "cell_type": "markdown",
   "metadata": {},
   "source": [
    "# Results\n",
    "  에이치엘비와 해외기업을 다룬 영상의 median viewcount는 8706회이고 에이치엘비를 다룬 영상의 median viewcount는 9798회로 통계적 유의미성을 달성하지 못했다.(p-value=0.465) 그러므로 에이치엘비와 함께 해외기업을 다룬다고 영상 조회수가 떨어지지 않는다."
   ]
  },
  {
   "cell_type": "markdown",
   "metadata": {},
   "source": [
    "# Conclusion\n",
    "  컨텐츠의 확장 측면에서 에이치엘비와 함께 해외기업을 다룬다."
   ]
  },
  {
   "cell_type": "code",
   "execution_count": null,
   "metadata": {},
   "outputs": [],
   "source": []
  }
 ],
 "metadata": {
  "kernelspec": {
   "display_name": "Python 3",
   "language": "python",
   "name": "python3"
  },
  "language_info": {
   "codemirror_mode": {
    "name": "ipython",
    "version": 3
   },
   "file_extension": ".py",
   "mimetype": "text/x-python",
   "name": "python",
   "nbconvert_exporter": "python",
   "pygments_lexer": "ipython3",
   "version": "3.7.3"
  }
 },
 "nbformat": 4,
 "nbformat_minor": 2
}
